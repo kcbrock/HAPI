{
 "cells": [
  {
   "cell_type": "markdown",
   "metadata": {},
   "source": [
    "### Removing points that are so inaccurate they land in the ocean, and assigning an island to each point\n",
    " - Island is often assigned to occurrence points (although sometimes not), but are variable in how they are entered (east Maui versus west, diacriticals, etc).  This step will standardized how those are entered."
   ]
  },
  {
   "cell_type": "code",
   "execution_count": 1,
   "metadata": {},
   "outputs": [],
   "source": [
    "import os\n",
    "# changing directory\n",
    "os.chdir(\"C:/Users/Kelsey/Documents/rwork/hapi\")"
   ]
  },
  {
   "cell_type": "code",
   "execution_count": 2,
   "metadata": {},
   "outputs": [],
   "source": [
    "import geopandas as gpd\n",
    "import matplotlib.pyplot as plt\n",
    "import pandas as pd"
   ]
  },
  {
   "cell_type": "code",
   "execution_count": 3,
   "metadata": {},
   "outputs": [],
   "source": [
    "#Reading in a shapefile of the Main Islands of Hawaii\n",
    "MainIslands = gpd.read_file(\"mainisl_100m_3.shp\")"
   ]
  },
  {
   "cell_type": "code",
   "execution_count": 4,
   "metadata": {},
   "outputs": [
    {
     "name": "stderr",
     "output_type": "stream",
     "text": [
      "C:\\Users\\Kelsey\\Anaconda3\\lib\\site-packages\\IPython\\core\\interactiveshell.py:3020: DtypeWarning: Columns (3,6,7,9,10,11,14,15,16,17,21,22) have mixed types. Specify dtype option on import or set low_memory=False.\n",
      "  interactivity=interactivity, compiler=compiler, result=result)\n"
     ]
    }
   ],
   "source": [
    "# importing a csv file of plant occurrence records\n",
    "import pandas as pd\n",
    "HAPI_OCC = pd.read_csv(\"HAPI_DISTRIBUTION_OCCURRENCES.1.csv\")"
   ]
  },
  {
   "cell_type": "code",
   "execution_count": 5,
   "metadata": {
    "scrolled": false
   },
   "outputs": [
    {
     "data": {
      "text/html": [
       "<div>\n",
       "<style scoped>\n",
       "    .dataframe tbody tr th:only-of-type {\n",
       "        vertical-align: middle;\n",
       "    }\n",
       "\n",
       "    .dataframe tbody tr th {\n",
       "        vertical-align: top;\n",
       "    }\n",
       "\n",
       "    .dataframe thead th {\n",
       "        text-align: right;\n",
       "    }\n",
       "</style>\n",
       "<table border=\"1\" class=\"dataframe\">\n",
       "  <thead>\n",
       "    <tr style=\"text-align: right;\">\n",
       "      <th></th>\n",
       "      <th>scientificName</th>\n",
       "      <th>publisher</th>\n",
       "      <th>basisOfRecord</th>\n",
       "      <th>recordNumber</th>\n",
       "      <th>recordedBy</th>\n",
       "      <th>individualCount</th>\n",
       "      <th>lifeStage</th>\n",
       "      <th>reproductiveCondition</th>\n",
       "      <th>degreeOfEstablishment</th>\n",
       "      <th>occurrenceStatus</th>\n",
       "      <th>...</th>\n",
       "      <th>habitat</th>\n",
       "      <th>island</th>\n",
       "      <th>locality</th>\n",
       "      <th>verbatimElevation</th>\n",
       "      <th>decimalLatitude</th>\n",
       "      <th>decimalLongitude</th>\n",
       "      <th>coordinateUncertaintyInMeters</th>\n",
       "      <th>identifiedBy</th>\n",
       "      <th>identificationVerificationStatus</th>\n",
       "      <th>issue</th>\n",
       "    </tr>\n",
       "  </thead>\n",
       "  <tbody>\n",
       "    <tr>\n",
       "      <th>0</th>\n",
       "      <td>Lepisorus thunbergianus</td>\n",
       "      <td>Natural History Museum (London) Collection Spe...</td>\n",
       "      <td>PRESERVED_SPECIMEN</td>\n",
       "      <td>1886</td>\n",
       "      <td>Thomas A. (Tom) Ranker, P G. Trapp, C G. Hanson</td>\n",
       "      <td>NaN</td>\n",
       "      <td>NaN</td>\n",
       "      <td>NaN</td>\n",
       "      <td>NaN</td>\n",
       "      <td>NaN</td>\n",
       "      <td>...</td>\n",
       "      <td>Epiphyte in Metrosideros polymorpha-dominated ...</td>\n",
       "      <td>NaN</td>\n",
       "      <td>Nearest Named Place: West Maui Forest Reserve;...</td>\n",
       "      <td>NaN</td>\n",
       "      <td>20.893600</td>\n",
       "      <td>-156.589400</td>\n",
       "      <td>NaN</td>\n",
       "      <td>NaN</td>\n",
       "      <td>NaN</td>\n",
       "      <td>GEODETIC_DATUM_ASSUMED_WGS84</td>\n",
       "    </tr>\n",
       "    <tr>\n",
       "      <th>1</th>\n",
       "      <td>Gahnia gahniiformis</td>\n",
       "      <td>Natural History Museum (London) Collection Spe...</td>\n",
       "      <td>PRESERVED_SPECIMEN</td>\n",
       "      <td>1250</td>\n",
       "      <td>Urbain Jean Faurie</td>\n",
       "      <td>NaN</td>\n",
       "      <td>NaN</td>\n",
       "      <td>NaN</td>\n",
       "      <td>NaN</td>\n",
       "      <td>NaN</td>\n",
       "      <td>...</td>\n",
       "      <td>NaN</td>\n",
       "      <td>NaN</td>\n",
       "      <td>NaN</td>\n",
       "      <td>NaN</td>\n",
       "      <td>20.985002</td>\n",
       "      <td>-157.270269</td>\n",
       "      <td>NaN</td>\n",
       "      <td>St John</td>\n",
       "      <td>NaN</td>\n",
       "      <td>GEODETIC_DATUM_ASSUMED_WGS84</td>\n",
       "    </tr>\n",
       "    <tr>\n",
       "      <th>2</th>\n",
       "      <td>Euphorbia olowaluana</td>\n",
       "      <td>Natural History Museum (London) Collection Spe...</td>\n",
       "      <td>PRESERVED_SPECIMEN</td>\n",
       "      <td>19824</td>\n",
       "      <td>Otto Degener, Toshio Murashige, Greenwell</td>\n",
       "      <td>NaN</td>\n",
       "      <td>NaN</td>\n",
       "      <td>NaN</td>\n",
       "      <td>NaN</td>\n",
       "      <td>NaN</td>\n",
       "      <td>...</td>\n",
       "      <td>NaN</td>\n",
       "      <td>NaN</td>\n",
       "      <td>NaN</td>\n",
       "      <td>NaN</td>\n",
       "      <td>20.985002</td>\n",
       "      <td>-157.270269</td>\n",
       "      <td>NaN</td>\n",
       "      <td>Daryl Lee Koutnik</td>\n",
       "      <td>NaN</td>\n",
       "      <td>GEODETIC_DATUM_ASSUMED_WGS84</td>\n",
       "    </tr>\n",
       "  </tbody>\n",
       "</table>\n",
       "<p>3 rows × 24 columns</p>\n",
       "</div>"
      ],
      "text/plain": [
       "            scientificName                                          publisher  \\\n",
       "0  Lepisorus thunbergianus  Natural History Museum (London) Collection Spe...   \n",
       "1      Gahnia gahniiformis  Natural History Museum (London) Collection Spe...   \n",
       "2     Euphorbia olowaluana  Natural History Museum (London) Collection Spe...   \n",
       "\n",
       "        basisOfRecord recordNumber  \\\n",
       "0  PRESERVED_SPECIMEN         1886   \n",
       "1  PRESERVED_SPECIMEN         1250   \n",
       "2  PRESERVED_SPECIMEN        19824   \n",
       "\n",
       "                                        recordedBy  individualCount lifeStage  \\\n",
       "0  Thomas A. (Tom) Ranker, P G. Trapp, C G. Hanson              NaN       NaN   \n",
       "1                               Urbain Jean Faurie              NaN       NaN   \n",
       "2        Otto Degener, Toshio Murashige, Greenwell              NaN       NaN   \n",
       "\n",
       "  reproductiveCondition degreeOfEstablishment occurrenceStatus  \\\n",
       "0                   NaN                   NaN              NaN   \n",
       "1                   NaN                   NaN              NaN   \n",
       "2                   NaN                   NaN              NaN   \n",
       "\n",
       "               ...               \\\n",
       "0              ...                \n",
       "1              ...                \n",
       "2              ...                \n",
       "\n",
       "                                             habitat island  \\\n",
       "0  Epiphyte in Metrosideros polymorpha-dominated ...    NaN   \n",
       "1                                                NaN    NaN   \n",
       "2                                                NaN    NaN   \n",
       "\n",
       "                                            locality verbatimElevation  \\\n",
       "0  Nearest Named Place: West Maui Forest Reserve;...               NaN   \n",
       "1                                                NaN               NaN   \n",
       "2                                                NaN               NaN   \n",
       "\n",
       "  decimalLatitude decimalLongitude coordinateUncertaintyInMeters  \\\n",
       "0       20.893600      -156.589400                           NaN   \n",
       "1       20.985002      -157.270269                           NaN   \n",
       "2       20.985002      -157.270269                           NaN   \n",
       "\n",
       "        identifiedBy  identificationVerificationStatus  \\\n",
       "0                NaN                               NaN   \n",
       "1            St John                               NaN   \n",
       "2  Daryl Lee Koutnik                               NaN   \n",
       "\n",
       "                          issue  \n",
       "0  GEODETIC_DATUM_ASSUMED_WGS84  \n",
       "1  GEODETIC_DATUM_ASSUMED_WGS84  \n",
       "2  GEODETIC_DATUM_ASSUMED_WGS84  \n",
       "\n",
       "[3 rows x 24 columns]"
      ]
     },
     "execution_count": 5,
     "metadata": {},
     "output_type": "execute_result"
    }
   ],
   "source": [
    "HAPI_OCC.head(3)"
   ]
  },
  {
   "cell_type": "code",
   "execution_count": 6,
   "metadata": {},
   "outputs": [
    {
     "data": {
      "text/plain": [
       "{'init': 'epsg:4326'}"
      ]
     },
     "execution_count": 6,
     "metadata": {},
     "output_type": "execute_result"
    }
   ],
   "source": [
    "MainIslands.crs"
   ]
  },
  {
   "cell_type": "code",
   "execution_count": 7,
   "metadata": {},
   "outputs": [],
   "source": [
    "#MainIslands = MainIslands.to_crs({'init': 'epsg:32604'})"
   ]
  },
  {
   "cell_type": "code",
   "execution_count": 8,
   "metadata": {},
   "outputs": [
    {
     "data": {
      "text/html": [
       "<div>\n",
       "<style scoped>\n",
       "    .dataframe tbody tr th:only-of-type {\n",
       "        vertical-align: middle;\n",
       "    }\n",
       "\n",
       "    .dataframe tbody tr th {\n",
       "        vertical-align: top;\n",
       "    }\n",
       "\n",
       "    .dataframe thead th {\n",
       "        text-align: right;\n",
       "    }\n",
       "</style>\n",
       "<table border=\"1\" class=\"dataframe\">\n",
       "  <thead>\n",
       "    <tr style=\"text-align: right;\">\n",
       "      <th></th>\n",
       "      <th>isle</th>\n",
       "      <th>geometry</th>\n",
       "    </tr>\n",
       "  </thead>\n",
       "  <tbody>\n",
       "    <tr>\n",
       "      <th>0</th>\n",
       "      <td>Kauai</td>\n",
       "      <td>POLYGON ((-159.3461118057677 21.93637350851169...</td>\n",
       "    </tr>\n",
       "    <tr>\n",
       "      <th>1</th>\n",
       "      <td>Niihau</td>\n",
       "      <td>POLYGON ((-160.0730039167078 21.89508810939679...</td>\n",
       "    </tr>\n",
       "    <tr>\n",
       "      <th>2</th>\n",
       "      <td>Oahu</td>\n",
       "      <td>POLYGON ((-157.6505686740289 21.29807812207038...</td>\n",
       "    </tr>\n",
       "  </tbody>\n",
       "</table>\n",
       "</div>"
      ],
      "text/plain": [
       "     isle                                           geometry\n",
       "0   Kauai  POLYGON ((-159.3461118057677 21.93637350851169...\n",
       "1  Niihau  POLYGON ((-160.0730039167078 21.89508810939679...\n",
       "2    Oahu  POLYGON ((-157.6505686740289 21.29807812207038..."
      ]
     },
     "execution_count": 8,
     "metadata": {},
     "output_type": "execute_result"
    }
   ],
   "source": [
    "MainIslands.head(3)\n",
    "# it worked!"
   ]
  },
  {
   "cell_type": "code",
   "execution_count": 9,
   "metadata": {},
   "outputs": [],
   "source": [
    "from shapely.geometry import Point\n",
    "\n",
    "# combine lat and lon column to a shapely Point() object\n",
    "HAPI_OCC['geometry'] = HAPI_OCC.apply(lambda x: Point((float(x.decimalLongitude), float(x.decimalLatitude))), axis=1)\n",
    "#converting it into a geodataframe shape file\n",
    "geo_HAPI_OCC = gpd.GeoDataFrame(HAPI_OCC, geometry= HAPI_OCC['geometry'])"
   ]
  },
  {
   "cell_type": "code",
   "execution_count": 10,
   "metadata": {},
   "outputs": [
    {
     "data": {
      "text/html": [
       "<div>\n",
       "<style scoped>\n",
       "    .dataframe tbody tr th:only-of-type {\n",
       "        vertical-align: middle;\n",
       "    }\n",
       "\n",
       "    .dataframe tbody tr th {\n",
       "        vertical-align: top;\n",
       "    }\n",
       "\n",
       "    .dataframe thead th {\n",
       "        text-align: right;\n",
       "    }\n",
       "</style>\n",
       "<table border=\"1\" class=\"dataframe\">\n",
       "  <thead>\n",
       "    <tr style=\"text-align: right;\">\n",
       "      <th></th>\n",
       "      <th>scientificName</th>\n",
       "      <th>publisher</th>\n",
       "      <th>basisOfRecord</th>\n",
       "      <th>recordNumber</th>\n",
       "      <th>recordedBy</th>\n",
       "      <th>individualCount</th>\n",
       "      <th>lifeStage</th>\n",
       "      <th>reproductiveCondition</th>\n",
       "      <th>degreeOfEstablishment</th>\n",
       "      <th>occurrenceStatus</th>\n",
       "      <th>...</th>\n",
       "      <th>island</th>\n",
       "      <th>locality</th>\n",
       "      <th>verbatimElevation</th>\n",
       "      <th>decimalLatitude</th>\n",
       "      <th>decimalLongitude</th>\n",
       "      <th>coordinateUncertaintyInMeters</th>\n",
       "      <th>identifiedBy</th>\n",
       "      <th>identificationVerificationStatus</th>\n",
       "      <th>issue</th>\n",
       "      <th>geometry</th>\n",
       "    </tr>\n",
       "  </thead>\n",
       "  <tbody>\n",
       "    <tr>\n",
       "      <th>0</th>\n",
       "      <td>Lepisorus thunbergianus</td>\n",
       "      <td>Natural History Museum (London) Collection Spe...</td>\n",
       "      <td>PRESERVED_SPECIMEN</td>\n",
       "      <td>1886</td>\n",
       "      <td>Thomas A. (Tom) Ranker, P G. Trapp, C G. Hanson</td>\n",
       "      <td>NaN</td>\n",
       "      <td>NaN</td>\n",
       "      <td>NaN</td>\n",
       "      <td>NaN</td>\n",
       "      <td>NaN</td>\n",
       "      <td>...</td>\n",
       "      <td>NaN</td>\n",
       "      <td>Nearest Named Place: West Maui Forest Reserve;...</td>\n",
       "      <td>NaN</td>\n",
       "      <td>20.893600</td>\n",
       "      <td>-156.589400</td>\n",
       "      <td>NaN</td>\n",
       "      <td>NaN</td>\n",
       "      <td>NaN</td>\n",
       "      <td>GEODETIC_DATUM_ASSUMED_WGS84</td>\n",
       "      <td>POINT (-156.5894 20.8936)</td>\n",
       "    </tr>\n",
       "    <tr>\n",
       "      <th>1</th>\n",
       "      <td>Gahnia gahniiformis</td>\n",
       "      <td>Natural History Museum (London) Collection Spe...</td>\n",
       "      <td>PRESERVED_SPECIMEN</td>\n",
       "      <td>1250</td>\n",
       "      <td>Urbain Jean Faurie</td>\n",
       "      <td>NaN</td>\n",
       "      <td>NaN</td>\n",
       "      <td>NaN</td>\n",
       "      <td>NaN</td>\n",
       "      <td>NaN</td>\n",
       "      <td>...</td>\n",
       "      <td>NaN</td>\n",
       "      <td>NaN</td>\n",
       "      <td>NaN</td>\n",
       "      <td>20.985002</td>\n",
       "      <td>-157.270269</td>\n",
       "      <td>NaN</td>\n",
       "      <td>St John</td>\n",
       "      <td>NaN</td>\n",
       "      <td>GEODETIC_DATUM_ASSUMED_WGS84</td>\n",
       "      <td>POINT (-157.270269 20.985002)</td>\n",
       "    </tr>\n",
       "    <tr>\n",
       "      <th>2</th>\n",
       "      <td>Euphorbia olowaluana</td>\n",
       "      <td>Natural History Museum (London) Collection Spe...</td>\n",
       "      <td>PRESERVED_SPECIMEN</td>\n",
       "      <td>19824</td>\n",
       "      <td>Otto Degener, Toshio Murashige, Greenwell</td>\n",
       "      <td>NaN</td>\n",
       "      <td>NaN</td>\n",
       "      <td>NaN</td>\n",
       "      <td>NaN</td>\n",
       "      <td>NaN</td>\n",
       "      <td>...</td>\n",
       "      <td>NaN</td>\n",
       "      <td>NaN</td>\n",
       "      <td>NaN</td>\n",
       "      <td>20.985002</td>\n",
       "      <td>-157.270269</td>\n",
       "      <td>NaN</td>\n",
       "      <td>Daryl Lee Koutnik</td>\n",
       "      <td>NaN</td>\n",
       "      <td>GEODETIC_DATUM_ASSUMED_WGS84</td>\n",
       "      <td>POINT (-157.270269 20.985002)</td>\n",
       "    </tr>\n",
       "  </tbody>\n",
       "</table>\n",
       "<p>3 rows × 25 columns</p>\n",
       "</div>"
      ],
      "text/plain": [
       "            scientificName                                          publisher  \\\n",
       "0  Lepisorus thunbergianus  Natural History Museum (London) Collection Spe...   \n",
       "1      Gahnia gahniiformis  Natural History Museum (London) Collection Spe...   \n",
       "2     Euphorbia olowaluana  Natural History Museum (London) Collection Spe...   \n",
       "\n",
       "        basisOfRecord recordNumber  \\\n",
       "0  PRESERVED_SPECIMEN         1886   \n",
       "1  PRESERVED_SPECIMEN         1250   \n",
       "2  PRESERVED_SPECIMEN        19824   \n",
       "\n",
       "                                        recordedBy  individualCount lifeStage  \\\n",
       "0  Thomas A. (Tom) Ranker, P G. Trapp, C G. Hanson              NaN       NaN   \n",
       "1                               Urbain Jean Faurie              NaN       NaN   \n",
       "2        Otto Degener, Toshio Murashige, Greenwell              NaN       NaN   \n",
       "\n",
       "  reproductiveCondition degreeOfEstablishment occurrenceStatus  \\\n",
       "0                   NaN                   NaN              NaN   \n",
       "1                   NaN                   NaN              NaN   \n",
       "2                   NaN                   NaN              NaN   \n",
       "\n",
       "               ...               island  \\\n",
       "0              ...                  NaN   \n",
       "1              ...                  NaN   \n",
       "2              ...                  NaN   \n",
       "\n",
       "                                            locality verbatimElevation  \\\n",
       "0  Nearest Named Place: West Maui Forest Reserve;...               NaN   \n",
       "1                                                NaN               NaN   \n",
       "2                                                NaN               NaN   \n",
       "\n",
       "  decimalLatitude decimalLongitude coordinateUncertaintyInMeters  \\\n",
       "0       20.893600      -156.589400                           NaN   \n",
       "1       20.985002      -157.270269                           NaN   \n",
       "2       20.985002      -157.270269                           NaN   \n",
       "\n",
       "        identifiedBy identificationVerificationStatus  \\\n",
       "0                NaN                              NaN   \n",
       "1            St John                              NaN   \n",
       "2  Daryl Lee Koutnik                              NaN   \n",
       "\n",
       "                          issue                       geometry  \n",
       "0  GEODETIC_DATUM_ASSUMED_WGS84      POINT (-156.5894 20.8936)  \n",
       "1  GEODETIC_DATUM_ASSUMED_WGS84  POINT (-157.270269 20.985002)  \n",
       "2  GEODETIC_DATUM_ASSUMED_WGS84  POINT (-157.270269 20.985002)  \n",
       "\n",
       "[3 rows x 25 columns]"
      ]
     },
     "execution_count": 10,
     "metadata": {},
     "output_type": "execute_result"
    }
   ],
   "source": [
    "geo_HAPI_OCC.head(3)\n",
    "# it worked! geometry column added"
   ]
  },
  {
   "cell_type": "code",
   "execution_count": 11,
   "metadata": {},
   "outputs": [],
   "source": [
    "# converting this to the same coordinate system ID as the shapefile\n",
    "geo_HAPI_OCC.crs = ({'init': 'epsg:4326'})"
   ]
  },
  {
   "cell_type": "code",
   "execution_count": 12,
   "metadata": {},
   "outputs": [
    {
     "data": {
      "text/plain": [
       "{'init': 'epsg:4326'}"
      ]
     },
     "execution_count": 12,
     "metadata": {},
     "output_type": "execute_result"
    }
   ],
   "source": [
    "geo_HAPI_OCC.crs"
   ]
  },
  {
   "cell_type": "code",
   "execution_count": 13,
   "metadata": {},
   "outputs": [
    {
     "data": {
      "image/png": "[encoded data removed]",
      "text/plain": [
       "<Figure size 1080x792 with 1 Axes>"
      ]
     },
     "metadata": {},
     "output_type": "display_data"
    }
   ],
   "source": [
    "%matplotlib inline \n",
    "f, ax1 = plt.subplots(1, figsize=(15, 11))\n",
    "\n",
    "fig1 = plt.gcf()\n",
    "\n",
    "MainIslands.plot(color = \"orange\", ax=ax1)\n",
    "geo_HAPI_OCC.plot( markersize = 0.05, color = \"darkgreen\", ax = ax1)\n",
    "fig1.set_facecolor('white')\n",
    "\n",
    "\n",
    "plt.title('Raw Plant Occurrence Records in the Main Hawaiian Islands')\n",
    "\n",
    "plt.show()"
   ]
  },
  {
   "cell_type": "markdown",
   "metadata": {},
   "source": [
    "Here we see that there are a lot of points that land outside of the islands, even though the island polygons have been buffered + 100m to account for point inaccuracy"
   ]
  },
  {
   "cell_type": "code",
   "execution_count": 14,
   "metadata": {},
   "outputs": [
    {
     "data": {
      "text/plain": [
       "(154950, 25)"
      ]
     },
     "execution_count": 14,
     "metadata": {},
     "output_type": "execute_result"
    }
   ],
   "source": [
    "geo_HAPI_OCC.shape"
   ]
  },
  {
   "cell_type": "code",
   "execution_count": 22,
   "metadata": {},
   "outputs": [],
   "source": [
    "# spatialling joining the lava risk with and airbnb data using geopandas\n",
    "geo_HAPI_OCC_onland = gpd.sjoin(geo_HAPI_OCC, MainIslands, how = 'right', op = 'intersects')"
   ]
  },
  {
   "cell_type": "code",
   "execution_count": 23,
   "metadata": {},
   "outputs": [
    {
     "data": {
      "text/plain": [
       "(151349, 27)"
      ]
     },
     "execution_count": 23,
     "metadata": {},
     "output_type": "execute_result"
    }
   ],
   "source": [
    "geo_HAPI_OCC_onland.shape"
   ]
  },
  {
   "cell_type": "code",
   "execution_count": 32,
   "metadata": {},
   "outputs": [
    {
     "data": {
      "text/html": [
       "<div>\n",
       "<style scoped>\n",
       "    .dataframe tbody tr th:only-of-type {\n",
       "        vertical-align: middle;\n",
       "    }\n",
       "\n",
       "    .dataframe tbody tr th {\n",
       "        vertical-align: top;\n",
       "    }\n",
       "\n",
       "    .dataframe thead th {\n",
       "        text-align: right;\n",
       "    }\n",
       "</style>\n",
       "<table border=\"1\" class=\"dataframe\">\n",
       "  <thead>\n",
       "    <tr style=\"text-align: right;\">\n",
       "      <th></th>\n",
       "      <th>index_left</th>\n",
       "      <th>scientificName</th>\n",
       "      <th>publisher</th>\n",
       "      <th>basisOfRecord</th>\n",
       "      <th>recordNumber</th>\n",
       "      <th>recordedBy</th>\n",
       "      <th>individualCount</th>\n",
       "      <th>lifeStage</th>\n",
       "      <th>reproductiveCondition</th>\n",
       "      <th>degreeOfEstablishment</th>\n",
       "      <th>...</th>\n",
       "      <th>locality</th>\n",
       "      <th>verbatimElevation</th>\n",
       "      <th>decimalLatitude</th>\n",
       "      <th>decimalLongitude</th>\n",
       "      <th>coordinateUncertaintyInMeters</th>\n",
       "      <th>identifiedBy</th>\n",
       "      <th>identificationVerificationStatus</th>\n",
       "      <th>issue</th>\n",
       "      <th>isle</th>\n",
       "      <th>geometry</th>\n",
       "    </tr>\n",
       "    <tr>\n",
       "      <th>index_right</th>\n",
       "      <th></th>\n",
       "      <th></th>\n",
       "      <th></th>\n",
       "      <th></th>\n",
       "      <th></th>\n",
       "      <th></th>\n",
       "      <th></th>\n",
       "      <th></th>\n",
       "      <th></th>\n",
       "      <th></th>\n",
       "      <th></th>\n",
       "      <th></th>\n",
       "      <th></th>\n",
       "      <th></th>\n",
       "      <th></th>\n",
       "      <th></th>\n",
       "      <th></th>\n",
       "      <th></th>\n",
       "      <th></th>\n",
       "      <th></th>\n",
       "      <th></th>\n",
       "    </tr>\n",
       "  </thead>\n",
       "  <tbody>\n",
       "    <tr>\n",
       "      <th>4</th>\n",
       "      <td>0</td>\n",
       "      <td>Lepisorus thunbergianus</td>\n",
       "      <td>Natural History Museum (London) Collection Spe...</td>\n",
       "      <td>PRESERVED_SPECIMEN</td>\n",
       "      <td>1886</td>\n",
       "      <td>Thomas A. (Tom) Ranker, P G. Trapp, C G. Hanson</td>\n",
       "      <td>NaN</td>\n",
       "      <td>NaN</td>\n",
       "      <td>NaN</td>\n",
       "      <td>NaN</td>\n",
       "      <td>...</td>\n",
       "      <td>Nearest Named Place: West Maui Forest Reserve;...</td>\n",
       "      <td>NaN</td>\n",
       "      <td>20.8936</td>\n",
       "      <td>-156.5894</td>\n",
       "      <td>NaN</td>\n",
       "      <td>NaN</td>\n",
       "      <td>NaN</td>\n",
       "      <td>GEODETIC_DATUM_ASSUMED_WGS84</td>\n",
       "      <td>Maui</td>\n",
       "      <td>POLYGON ((-155.997333042764 20.69461569094932,...</td>\n",
       "    </tr>\n",
       "    <tr>\n",
       "      <th>4</th>\n",
       "      <td>11</td>\n",
       "      <td>Solanum haleakalaense</td>\n",
       "      <td>Natural History Museum (London) Collection Spe...</td>\n",
       "      <td>PRESERVED_SPECIMEN</td>\n",
       "      <td>s.n.</td>\n",
       "      <td>Wilhelm B. Hillebrand</td>\n",
       "      <td>NaN</td>\n",
       "      <td>NaN</td>\n",
       "      <td>NaN</td>\n",
       "      <td>NaN</td>\n",
       "      <td>...</td>\n",
       "      <td>Nearest Named Place: South Haleakala</td>\n",
       "      <td>NaN</td>\n",
       "      <td>20.6870</td>\n",
       "      <td>-156.1700</td>\n",
       "      <td>NaN</td>\n",
       "      <td>Donald Henry Roland McClelland</td>\n",
       "      <td>NaN</td>\n",
       "      <td>GEODETIC_DATUM_ASSUMED_WGS84</td>\n",
       "      <td>Maui</td>\n",
       "      <td>POLYGON ((-155.997333042764 20.69461569094932,...</td>\n",
       "    </tr>\n",
       "  </tbody>\n",
       "</table>\n",
       "<p>2 rows × 27 columns</p>\n",
       "</div>"
      ],
      "text/plain": [
       "             index_left           scientificName  \\\n",
       "index_right                                        \n",
       "4                     0  Lepisorus thunbergianus   \n",
       "4                    11    Solanum haleakalaense   \n",
       "\n",
       "                                                     publisher  \\\n",
       "index_right                                                      \n",
       "4            Natural History Museum (London) Collection Spe...   \n",
       "4            Natural History Museum (London) Collection Spe...   \n",
       "\n",
       "                  basisOfRecord recordNumber  \\\n",
       "index_right                                    \n",
       "4            PRESERVED_SPECIMEN         1886   \n",
       "4            PRESERVED_SPECIMEN         s.n.   \n",
       "\n",
       "                                                  recordedBy  individualCount  \\\n",
       "index_right                                                                     \n",
       "4            Thomas A. (Tom) Ranker, P G. Trapp, C G. Hanson              NaN   \n",
       "4                                      Wilhelm B. Hillebrand              NaN   \n",
       "\n",
       "            lifeStage reproductiveCondition degreeOfEstablishment  \\\n",
       "index_right                                                         \n",
       "4                 NaN                   NaN                   NaN   \n",
       "4                 NaN                   NaN                   NaN   \n",
       "\n",
       "                                   ...                          \\\n",
       "index_right                        ...                           \n",
       "4                                  ...                           \n",
       "4                                  ...                           \n",
       "\n",
       "                                                      locality  \\\n",
       "index_right                                                      \n",
       "4            Nearest Named Place: West Maui Forest Reserve;...   \n",
       "4                         Nearest Named Place: South Haleakala   \n",
       "\n",
       "            verbatimElevation decimalLatitude decimalLongitude  \\\n",
       "index_right                                                      \n",
       "4                         NaN         20.8936        -156.5894   \n",
       "4                         NaN         20.6870        -156.1700   \n",
       "\n",
       "            coordinateUncertaintyInMeters                    identifiedBy  \\\n",
       "index_right                                                                 \n",
       "4                                     NaN                             NaN   \n",
       "4                                     NaN  Donald Henry Roland McClelland   \n",
       "\n",
       "            identificationVerificationStatus                         issue  \\\n",
       "index_right                                                                  \n",
       "4                                        NaN  GEODETIC_DATUM_ASSUMED_WGS84   \n",
       "4                                        NaN  GEODETIC_DATUM_ASSUMED_WGS84   \n",
       "\n",
       "             isle                                           geometry  \n",
       "index_right                                                           \n",
       "4            Maui  POLYGON ((-155.997333042764 20.69461569094932,...  \n",
       "4            Maui  POLYGON ((-155.997333042764 20.69461569094932,...  \n",
       "\n",
       "[2 rows x 27 columns]"
      ]
     },
     "execution_count": 32,
     "metadata": {},
     "output_type": "execute_result"
    }
   ],
   "source": [
    "geo_HAPI_OCC_onland.head(2)"
   ]
  },
  {
   "cell_type": "code",
   "execution_count": 26,
   "metadata": {},
   "outputs": [],
   "source": [
    "geo_HAPI_OCC_onland2 = geo_HAPI_OCC_onland.drop(['geometry'], axis=1)"
   ]
  },
  {
   "cell_type": "code",
   "execution_count": 27,
   "metadata": {},
   "outputs": [],
   "source": [
    "# combine lat and lon column to a shapely Point() object\n",
    "geo_HAPI_OCC_onland2['geometry'] = geo_HAPI_OCC_onland2.apply(lambda x: Point((float(x.decimalLongitude), float(x.decimalLatitude))), axis=1)\n",
    "#converting it into a geodataframe shape file\n",
    "geo_HAPI_OCC_onland2 = gpd.GeoDataFrame(geo_HAPI_OCC_onland2, geometry= geo_HAPI_OCC_onland2['geometry'])"
   ]
  },
  {
   "cell_type": "code",
   "execution_count": 17,
   "metadata": {},
   "outputs": [
    {
     "data": {
      "text/plain": [
       "array(['Maui', 'Oahu', 'Kauai', 'Lanai', 'Hawaii', 'Molokai', 'Niihau',\n",
       "       'Kahoolawe'], dtype=object)"
      ]
     },
     "execution_count": 17,
     "metadata": {},
     "output_type": "execute_result"
    }
   ],
   "source": [
    "geo_HAPI_OCC_onland['isle'].unique()"
   ]
  },
  {
   "cell_type": "code",
   "execution_count": 29,
   "metadata": {},
   "outputs": [
    {
     "data": {
      "image/png": "[encoded data removed]",
      "text/plain": [
       "<Figure size 1080x792 with 1 Axes>"
      ]
     },
     "metadata": {},
     "output_type": "display_data"
    }
   ],
   "source": [
    "%matplotlib inline \n",
    "f, ax1 = plt.subplots(1, figsize=(15, 11))\n",
    "\n",
    "fig1 = plt.gcf()\n",
    "\n",
    "MainIslands.plot(color = \"orange\", ax=ax1)\n",
    "geo_HAPI_OCC_onland2.plot( markersize = 1, color = \"darkgreen\", ax = ax1)\n",
    "fig1.set_facecolor('white')\n",
    "\n",
    "\n",
    "plt.title('Plant Occurrence Records - Ocean Points Removed')\n",
    "\n",
    "plt.show()"
   ]
  },
  {
   "cell_type": "markdown",
   "metadata": {},
   "source": [
    "Only terrestrial points should remain"
   ]
  },
  {
   "cell_type": "code",
   "execution_count": 30,
   "metadata": {},
   "outputs": [
    {
     "data": {
      "text/plain": [
       "3601"
      ]
     },
     "execution_count": 30,
     "metadata": {},
     "output_type": "execute_result"
    }
   ],
   "source": [
    "# of points in the ocean\n",
    "len(geo_HAPI_OCC)-len(geo_HAPI_OCC_onland2)"
   ]
  },
  {
   "cell_type": "code",
   "execution_count": 33,
   "metadata": {},
   "outputs": [],
   "source": [
    "export = geo_HAPI_OCC_onland.drop(['geometry'], axis=1)"
   ]
  },
  {
   "cell_type": "code",
   "execution_count": 34,
   "metadata": {},
   "outputs": [],
   "source": [
    "export.to_csv('de-oceanized_HAPI_OCCURRENCE.csv', index = False)"
   ]
  },
  {
   "cell_type": "markdown",
   "metadata": {},
   "source": [
    "Exporting as csv to open in R, so we can take advantage of the scrubR package."
   ]
  }
 ],
 "metadata": {
  "kernelspec": {
   "display_name": "Python 3",
   "language": "python",
   "name": "python3"
  },
  "language_info": {
   "codemirror_mode": {
    "name": "ipython",
    "version": 3
   },
   "file_extension": ".py",
   "mimetype": "text/x-python",
   "name": "python",
   "nbconvert_exporter": "python",
   "pygments_lexer": "ipython3",
   "version": "3.7.1"
  }
 },
 "nbformat": 4,
 "nbformat_minor": 2
}
