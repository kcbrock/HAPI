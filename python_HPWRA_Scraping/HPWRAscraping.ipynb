{
 "cells": [
  {
   "cell_type": "markdown",
   "metadata": {},
   "source": [
    "# Scraping data from .xlsx and .pdf files for the Hawaii-Pacific Weed Risk Assessment\n"
   ]
  },
  {
   "cell_type": "code",
   "execution_count": 32,
   "metadata": {},
   "outputs": [],
   "source": [
    "from xlrd import open_workbook, XLRDError\n",
    "\n",
    "# Load the input xls data file\n",
    "filename   = \"Leucaena leucocephala tarramba.xls\"\n",
    "workbook   = open_workbook(filename)\n",
    "firstsheet = workbook.sheet_by_index(0)"
   ]
  },
  {
   "cell_type": "code",
   "execution_count": 33,
   "metadata": {},
   "outputs": [
    {
     "name": "stdout",
     "output_type": "stream",
     "text": [
      "['n', '', '', 2.0, 2.0, 'y', 'y', 'n', 'n', '', '', '', '', '', 'n', 'y', 'n', 'n', 'y', 'y', 'n', 'n', '', 'y', 'n', '', 'n', 'n', 'y', 'n', 'n', 'y', '', 'y', 'n', 'n', '', 'n', 'y', 'n', 'y', 'y', 'n', 'n', 'y', '', 'y', '', 'y', '', '']\n"
     ]
    }
   ],
   "source": [
    "data_points = []\n",
    "for row in range(1, 52):\n",
    "    # Note: array index starts from 0 \n",
    "    data_points.append(firstsheet.cell(row, 3).value)\n",
    "print(data_points)"
   ]
  },
  {
   "cell_type": "code",
   "execution_count": 34,
   "metadata": {},
   "outputs": [],
   "source": [
    "import xlwt\n",
    "wb = xlwt.Workbook(encoding='utf-8')\n",
    "ws = wb.add_sheet('Data Sheet')"
   ]
  },
  {
   "cell_type": "code",
   "execution_count": 35,
   "metadata": {},
   "outputs": [],
   "source": [
    "header = [\"1.01\",\"1.02\",\"1.03\",\"2.01\",\"2.02\",\"2.03\",\"2.04\",\"2.05\",\"3.01\",\"3.02\",\"3.03\",\"3.04\",\"3.05\",\" \", \"4.01\",\"4.02\",\"4.03\",\"4.04\",\"4.05\",\"4.06\",\"4.07\",\"4.08\",\"4.09\",\"4.1\",\"4.11\",\"4.12\",\"5.01\",\"5.02\",\"5.03\",\"5.04\",\"6.01\",\"6.02\",\"6.03\",\"6.04\",\"6.05\",\"6.06\",\"6.07\",\"7.01\",\"7.02\",\"7.03\",\"7.04\",\"7.05\",\"7.06\",\"7.07\",\"7.08\",\"8.01\",\"8.02\",\"8.03\",\"8.04\",\"8.05\", \"total score\"]\n",
    "\n",
    "# write data header on row 0\n",
    "for index, colname in enumerate(header):\n",
    "    ws.write(0, index, colname)"
   ]
  },
  {
   "cell_type": "code",
   "execution_count": 36,
   "metadata": {
    "scrolled": true
   },
   "outputs": [
    {
     "name": "stdout",
     "output_type": "stream",
     "text": [
      "Done exporting the xls file !!\n"
     ]
    }
   ],
   "source": [
    "for index, data_item in enumerate(data_points):\n",
    "    ws.write(1, index, data_item)\n",
    "\n",
    "wb.save('C:/Users/Kelsey/ParsedExcel.xls')\n",
    "print (\"Done exporting the xls file !!\")"
   ]
  },
  {
   "cell_type": "code",
   "execution_count": 45,
   "metadata": {},
   "outputs": [],
   "source": [
    "import tabula\n",
    "\n",
    "pdf_filename = \"Sauvagesia erecta.pdf\"\n",
    "pages_scrapped = tabula.read_pdf(pdf_filename, output_format=\"json\", pages=[1,2])"
   ]
  },
  {
   "cell_type": "code",
   "execution_count": 46,
   "metadata": {},
   "outputs": [
    {
     "name": "stdout",
     "output_type": "stream",
     "text": [
      "TAXON: Sauvagesia erecta L.SCO\t\n",
      "Taxon: Sauvagesia erecta L.\r",
      "Fa\t\n",
      "Assessor: Chuck ChimeraStatus:\t\n",
      "High Risk\t\n",
      "Assessor: Chuck ChimeraStatus:\t\n",
      "High Risk\t\n",
      "Keywords: Naturalized, Pantrop\t\n",
      "\t\t\t\t\t\n",
      "Qsn #\tQuestion\tAnswer Option\tAnswer\t\t\n",
      "101\tIs the species highly domestic\ty=-3, n=0\tn\t\t\n",
      "102\tHas the species become natural\t\t\t\t\n",
      "103\tDoes the species have weedy ra\t\t\t\t\n",
      "201\tSpecies suited to tropical or \t(0-low; 1-intermediate; 2-high\tHigh\t\t\n",
      "202\tQuality of climate match data\t(0-low; 1-intermediate; 2-high\tHigh\t\t\n",
      "203\tBroad climate suitability (env\ty=1, n=0\ty\t\t\n",
      "204\tNative or naturalized in regio\ty=1, n=0\ty\t\t\n",
      "205\tDoes the species have a histor\ty=-2, ?=-1, n=0\ty\t\t\n",
      "301\tNaturalized beyond native rang\ty = 1*multiplier (see Appendix\ty\t\t\n",
      "302\tGarden/amenity/disturbance wee\tn=0, y = 1*multiplier (see App\ty\t\t\n",
      "303\tAgricultural/forestry/horticul\t\t\t\t\n",
      "304\tEnvironmental weed\tn=0, y = 2*multiplier (see App\tn\t\t\n",
      "305\tCongeneric weed\t\t\t\t\n",
      "401\tProduces spines, thorns or bur\ty=1, n=0\tn\t\t\n",
      "402\tAllelopathic\t\t\t\t\n",
      "403\tParasitic\ty=1, n=0\tn\t\t\n",
      "404\tUnpalatable to grazing animals\t\t\t\t\n",
      "405\tToxic to animals\ty=1, n=0\tn\t\t\n",
      "406\tHost for recognized pests and \t\t\t\t\n",
      "407\tCauses allergies or is otherwi\ty=1, n=0\tn\t\t\n",
      "408\tCreates a fire hazard in natur\ty=1, n=0\tn\t\t\n",
      "409\tIs a shade tolerant plant at s\t\t\t\t\n",
      "Creation Date: 10 Dec 2018(Sau\t\n",
      "TAXON: Sauvagesia erecta L.SCO\t\t\t\t\t\n",
      "\t\t\t\t\t\n",
      "Qsn #\tQuestion\tAnswer Option\tAnswer\t\t\n",
      "410\tTolerates a wide range of soil\t\t\t\t\n",
      "411\tClimbing or smothering growth \ty=1, n=0\tn\t\t\n",
      "412\tForms dense thickets\t\t\t\t\n",
      "501\tAquatic\ty=5, n=0\tn\t\t\n",
      "502\tGrass\ty=1, n=0\tn\t\t\n",
      "503\tNitrogen fixing woody plant\ty=1, n=0\tn\t\t\n",
      "504\tGeophyte (herbaceous with unde\ty=1, n=0\tn\t\t\n",
      "601\tEvidence of substantial reprod\ty=1, n=0\tn\t\t\n",
      "602\tProduces viable seed\ty=1, n=-1\ty\t\t\n",
      "603\tHybridizes naturally\t\t\t\t\n",
      "604\tSelf-compatible or apomictic\ty=1, n=-1\ty\t\t\n",
      "605\tRequires specialist pollinator\ty=-1, n=0\tn\t\t\n",
      "606\tReproduction by vegetative fra\ty=1, n=-1\tn\t\t\n",
      "607\tMinimum generative time (years\t1 year = 1, 2 or 3 years = 0, \t1\t\t\n",
      "701\tPropagules likely to be disper\ty=1, n=-1\ty\t\t\n",
      "702\tPropagules dispersed intention\t\t\t\t\n",
      "703\tPropagules likely to disperse \t\t\t\t\n",
      "704\tPropagules adapted to wind dis\ty=1, n=-1\tn\t\t\n",
      "705\tPropagules water dispersed\ty=1, n=-1\ty\t\t\n",
      "706\tPropagules bird dispersed\ty=1, n=-1\tn\t\t\n",
      "707\tPropagules dispersed by other \t\t\t\t\n",
      "708\tPropagules survive passage thr\ty=1, n=-1\tn\t\t\n",
      "801\tProlific seed production (>100\t\t\t\t\n",
      "802\tEvidence that a persistent pro\t\t\t\t\n",
      "803\tWell controlled by herbicides\t\t\t\t\n",
      "804\tTolerates, or benefits from, m\t\t\t\t\n",
      "805\tEffective natural enemies pres\t\t\t\t\n",
      "Creation Date: 10 Dec 2018(Sau\t\n"
     ]
    }
   ],
   "source": [
    "for page in pages_scrapped:\n",
    "    for row in page['data']:\n",
    "        for column in row:\n",
    "            print (column['text'][:30], end=\"\\t\")\n",
    "        print()"
   ]
  },
  {
   "cell_type": "code",
   "execution_count": 47,
   "metadata": {},
   "outputs": [
    {
     "name": "stdout",
     "output_type": "stream",
     "text": [
      "\t\t\t\t\n",
      "Keywords: Naturalized, Pantrop\t\t\t\t\n",
      "\t\t\t\t\n",
      "\t\t\t\t\n",
      "Qsn #\tQuestion\tAnswer Option\tAnswer\t\n",
      "101\tIs the species highly domestic\ty=-3, n=0\tn\t\n",
      "102\tHas the species become natural\t\t\t\n",
      "103\tDoes the species have weedy ra\t\t\t\n",
      "201\tSpecies suited to tropical or \t(0-low; 1-intermediate; 2-high\tHigh\t\n",
      "202\tQuality of climate match data\t(0-low; 1-intermediate; 2-high\tHigh\t\n",
      "203\tBroad climate suitability (env\ty=1, n=0\ty\t\n",
      "204\tNative or naturalized in regio\ty=1, n=0\ty\t\n",
      "205\tDoes the species have a histor\ty=-2, ?=-1, n=0\ty\t\n",
      "301\tNaturalized beyond native rang\ty = 1*multiplier (see Appendix\ty\t\n",
      "302\tGarden/amenity/disturbance wee\tn=0, y = 1*multiplier (see App\ty\t\n",
      "303\tAgricultural/forestry/horticul\t\t\t\n",
      "304\tEnvironmental weed\tn=0, y = 2*multiplier (see App\tn\t\n",
      "305\tCongeneric weed\t\t\t\n",
      "401\tProduces spines, thorns or bur\ty=1, n=0\tn\t\n",
      "402\tAllelopathic\t\t\t\n",
      "403\tParasitic\ty=1, n=0\tn\t\n",
      "404\tUnpalatable to grazing animals\t\t\t\n",
      "405\tToxic to animals\ty=1, n=0\tn\t\n",
      "406\tHost for recognized pests and \t\t\t\n",
      "407\tCauses allergies or is otherwi\ty=1, n=0\tn\t\n",
      "Creates a fire hazard in natur\ty=1, n=0\tn\t\t\n",
      "\t\t\t\t\n",
      "Qsn #\tQuestion\tAnswer Option\tAnswer\t\n",
      "410\tTolerates a wide range of soil\t\t\t\n",
      "411\tClimbing or smothering growth \ty=1, n=0\tn\t\n",
      "412\tForms dense thickets\t\t\t\n",
      "501\tAquatic\ty=5, n=0\tn\t\n",
      "502\tGrass\ty=1, n=0\tn\t\n",
      "503\tNitrogen fixing woody plant\ty=1, n=0\tn\t\n",
      "504\tGeophyte (herbaceous with unde\ty=1, n=0\tn\t\n",
      "601\tEvidence of substantial reprod\ty=1, n=0\tn\t\n",
      "602\tProduces viable seed\ty=1, n=-1\ty\t\n",
      "603\tHybridizes naturally\t\t\t\n",
      "604\tSelf-compatible or apomictic\ty=1, n=-1\ty\t\n",
      "605\tRequires specialist pollinator\ty=-1, n=0\tn\t\n",
      "606\tReproduction by vegetative fra\ty=1, n=-1\tn\t\n",
      "607\tMinimum generative time (years\t1 year = 1, 2 or 3 years = 0, \t1\t\n",
      "701\tPropagules likely to be disper\ty=1, n=-1\ty\t\n",
      "702\tPropagules dispersed intention\t\t\t\n",
      "703\tPropagules likely to disperse \t\t\t\n",
      "704\tPropagules adapted to wind dis\ty=1, n=-1\tn\t\n",
      "705\tPropagules water dispersed\ty=1, n=-1\ty\t\n",
      "706\tPropagules bird dispersed\ty=1, n=-1\tn\t\n",
      "707\tPropagules dispersed by other \t\t\t\n",
      "708\tPropagules survive passage thr\ty=1, n=-1\tn\t\n",
      "801\tProlific seed production (>100\t\t\t\n",
      "802\tEvidence that a persistent pro\t\t\t\n",
      "803\tWell controlled by herbicides\t\t\t\n",
      "804\tTolerates, or benefits from, m\t\t\t\n",
      "805\tEffective natural enemies pres\t\t\t\n"
     ]
    }
   ],
   "source": [
    "left = 20\n",
    "top = 200\n",
    "width = 560\n",
    "height = 520\n",
    "\n",
    "page1_initial_coords = [(top, left, top + height, top + width)]\n",
    "scrapped_page1 = tabula.read_pdf(pdf_filename, output_format=\"json\", pages=[1], area=page1_initial_coords)\n",
    "\n",
    "left = 20.07\n",
    "top = 48.09\n",
    "width = 565.37\n",
    "height = 674.04\n",
    "\n",
    "page2_initial_coords = [(top, left, top + height, top + width)]\n",
    "scrapped_page2 = tabula.read_pdf(pdf_filename, output_format=\"json\", pages=[2], area=page2_initial_coords)\n",
    "\n",
    "pages_json = [scrapped_page1[0], scrapped_page2[0]]\n",
    "\n",
    "for page in pages_json:\n",
    "    for row in page['data']:\n",
    "        for column in row:\n",
    "            print (column['text'][:30], end=\"\\t\")\n",
    "        print()"
   ]
  },
  {
   "cell_type": "code",
   "execution_count": 48,
   "metadata": {},
   "outputs": [
    {
     "data": {
      "text/plain": [
       "list"
      ]
     },
     "execution_count": 48,
     "metadata": {},
     "output_type": "execute_result"
    }
   ],
   "source": [
    "type(pages_json)"
   ]
  },
  {
   "cell_type": "code",
   "execution_count": 49,
   "metadata": {},
   "outputs": [
    {
     "name": "stdout",
     "output_type": "stream",
     "text": [
      "Done exporting the xls file !!\n"
     ]
    }
   ],
   "source": [
    "import xlwt\n",
    "wb_pdf = xlwt.Workbook(encoding='utf-8')\n",
    "ws_pdf = wb_pdf.add_sheet('Data Sheet')\n",
    "\n",
    "# write data header on row 0\n",
    "header = [\"1.01\",\"1.02\",\"1.03\",\"2.01\",\"2.02\",\"2.03\",\"2.04\",\"2.05\",\"3.01\",\"3.02\",\"3.03\",\"3.04\",\"3.05\", \"4.01\",\"4.02\",\"4.03\",\"4.04\",\"4.05\",\"4.06\",\"4.07\",\"4.08\",\"4.09\",\"4.1\",\"4.11\",\"4.12\",\"5.01\",\"5.02\",\"5.03\",\"5.04\",\"6.01\",\"6.02\",\"6.03\",\"6.04\",\"6.05\",\"6.06\",\"6.07\",\"7.01\",\"7.02\",\"7.03\",\"7.04\",\"7.05\",\"7.06\",\"7.07\",\"7.08\",\"8.01\",\"8.02\",\"8.03\",\"8.04\",\"8.05\", \"total score\"]\n",
    "for index, colname in enumerate(header):\n",
    "    ws_pdf.write(0, index, colname) \n",
    "\n",
    "# write data on row 1\n",
    "column_index = 0\n",
    "for page in pages_json:\n",
    "    for row in page['data']:\n",
    "        \n",
    "        if (row[0]['text'] == ''):\n",
    "            # discard the empty row\n",
    "            continue    \n",
    "        ws_pdf.write(1, column_index, row[3]['text'])\n",
    "        column_index += 1\n",
    "        \n",
    "ws_pdf.write(1, column_index, row[2]['text'])\n",
    "\n",
    "wb_pdf.save('ParsedPdfFile.xls')\n",
    "print ('Done exporting the xls file !!')"
   ]
  },
  {
   "cell_type": "code",
   "execution_count": 42,
   "metadata": {},
   "outputs": [
    {
     "data": {
      "text/plain": [
       "xlwt.Worksheet.Worksheet"
      ]
     },
     "execution_count": 42,
     "metadata": {},
     "output_type": "execute_result"
    }
   ],
   "source": [
    "type(ws_pdf)"
   ]
  }
 ],
 "metadata": {
  "kernelspec": {
   "display_name": "Python 3",
   "language": "python",
   "name": "python3"
  },
  "language_info": {
   "codemirror_mode": {
    "name": "ipython",
    "version": 3
   },
   "file_extension": ".py",
   "mimetype": "text/x-python",
   "name": "python",
   "nbconvert_exporter": "python",
   "pygments_lexer": "ipython3",
   "version": "3.7.1"
  }
 },
 "nbformat": 4,
 "nbformat_minor": 2
}
