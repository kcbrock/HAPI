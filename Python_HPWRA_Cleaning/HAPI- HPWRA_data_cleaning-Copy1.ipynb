{
 "cells": [
  {
   "cell_type": "markdown",
   "metadata": {},
   "source": [
    "# Cleaning HPWRA input data for HAPI Project\n",
    "Kelsey Brock - Last Updated Feb 28, 2020"
   ]
  },
  {
   "cell_type": "code",
   "execution_count": 1,
   "metadata": {},
   "outputs": [],
   "source": [
    "# ignore warnings to compile the final notebook\n",
    "import warnings\n",
    "warnings.filterwarnings(\"ignore\")"
   ]
  },
  {
   "cell_type": "code",
   "execution_count": 2,
   "metadata": {},
   "outputs": [],
   "source": [
    "import pandas as pd "
   ]
  },
  {
   "cell_type": "markdown",
   "metadata": {},
   "source": [
    "###  Cleaning HPWRA Data"
   ]
  },
  {
   "cell_type": "code",
   "execution_count": 3,
   "metadata": {},
   "outputs": [],
   "source": [
    "# import csv file of HPWRA data with analysis friendly column headings\n",
    "\n",
    "CompiledData = pd.read_csv(\"UltimateDataCompilation.csv\", sep=',', \n",
    "                  names = [\"Filename\",\n",
    "                           \"1.01_domesticated\",\"1.02_naturalized_grown\",\"1.03_weedy_races\", \n",
    "                           \"2.01_clim_match\",\"2.02_climmatch_qual\",\n",
    "                           \"2.03_broad_clim\",\"2.04_similar_clim\",\"2.05_repeat_intro\",\n",
    "                           \"3.01_beyond_native\", \"3.02_disturbance_weed\",\n",
    "                           \"3.03_agri_forestry_weed\", \"3.04_enviro_weed\", \n",
    "                           \"3.05_congener\",\"4.01_spiny\", \"4.02_allelopathic\",\n",
    "                           \"4.03_parasitic\", \"4.04_unpalatable\", \"4.05_toxic\", \"4.06_alternate_host\",\n",
    "                           \"4.07_allergies\", \"4.08_fire_hazard\", \"4.09_shade_tolerant\", \"4.10_tolerates_soilcond\",\n",
    "                           \"4.11_climber\",\"4.12_forms_thickets\",\"5.01_aquatic\",\"5.02_grass\",\n",
    "                           \"5.03_nitrogen_fixer\", \"5.04_geophyte\",\"6.01_repro_failure\",\"6.02_viable_seed\",\n",
    "                           \"6.03_hybridizes\", \"6.04_selfcompatible\",\"6.05_special_pollinators\",\"6.06_vegetative_repro\",\n",
    "                           \"6.07_miniumum_gen_time\",\"7.01_unintentional_dispersal\",\n",
    "                           \"7.02_intentional_dispersal\",\"7.03_contaminant_dispersal\",\n",
    "                           \"7.04_wind_dispersal\",\"7.05_water_dispersal\",\"7.06_bird_dispersal\",\n",
    "                           \"7.07_animal_dispersal\",\"7.08_survive_gut\",\"8.01_prolific_seeder\",\n",
    "                           \"8.02_propagule_bank\",\"8.03_herbicide_controlled\",\n",
    "                           \"8.04_tolerates_mutilation\",\"8.05_local_enemies\", \"manual_score\"])"
   ]
  },
  {
   "cell_type": "code",
   "execution_count": 4,
   "metadata": {},
   "outputs": [
    {
     "data": {
      "text/html": [
       "<div>\n",
       "<style scoped>\n",
       "    .dataframe tbody tr th:only-of-type {\n",
       "        vertical-align: middle;\n",
       "    }\n",
       "\n",
       "    .dataframe tbody tr th {\n",
       "        vertical-align: top;\n",
       "    }\n",
       "\n",
       "    .dataframe thead th {\n",
       "        text-align: right;\n",
       "    }\n",
       "</style>\n",
       "<table border=\"1\" class=\"dataframe\">\n",
       "  <thead>\n",
       "    <tr style=\"text-align: right;\">\n",
       "      <th></th>\n",
       "      <th>Filename</th>\n",
       "      <th>1.01_domesticated</th>\n",
       "      <th>1.02_naturalized_grown</th>\n",
       "      <th>1.03_weedy_races</th>\n",
       "      <th>2.01_clim_match</th>\n",
       "      <th>2.02_climmatch_qual</th>\n",
       "      <th>2.03_broad_clim</th>\n",
       "      <th>2.04_similar_clim</th>\n",
       "      <th>2.05_repeat_intro</th>\n",
       "      <th>3.01_beyond_native</th>\n",
       "      <th>...</th>\n",
       "      <th>7.05_water_dispersal</th>\n",
       "      <th>7.06_bird_dispersal</th>\n",
       "      <th>7.07_animal_dispersal</th>\n",
       "      <th>7.08_survive_gut</th>\n",
       "      <th>8.01_prolific_seeder</th>\n",
       "      <th>8.02_propagule_bank</th>\n",
       "      <th>8.03_herbicide_controlled</th>\n",
       "      <th>8.04_tolerates_mutilation</th>\n",
       "      <th>8.05_local_enemies</th>\n",
       "      <th>manual_score</th>\n",
       "    </tr>\n",
       "  </thead>\n",
       "  <tbody>\n",
       "    <tr>\n",
       "      <th>0</th>\n",
       "      <td>File_name</td>\n",
       "      <td>1.01</td>\n",
       "      <td>1.02</td>\n",
       "      <td>1.03</td>\n",
       "      <td>2.01</td>\n",
       "      <td>2.02</td>\n",
       "      <td>2.03</td>\n",
       "      <td>2.04</td>\n",
       "      <td>2.05</td>\n",
       "      <td>3.01</td>\n",
       "      <td>...</td>\n",
       "      <td>7.05</td>\n",
       "      <td>7.06</td>\n",
       "      <td>7.07</td>\n",
       "      <td>7.08</td>\n",
       "      <td>8.01</td>\n",
       "      <td>8.02</td>\n",
       "      <td>8.03</td>\n",
       "      <td>8.04</td>\n",
       "      <td>8.05</td>\n",
       "      <td>total score</td>\n",
       "    </tr>\n",
       "    <tr>\n",
       "      <th>1</th>\n",
       "      <td>Abelia_x_grandiflora.xls</td>\n",
       "      <td>y</td>\n",
       "      <td>n</td>\n",
       "      <td>n</td>\n",
       "      <td>1</td>\n",
       "      <td>2</td>\n",
       "      <td>y</td>\n",
       "      <td>n</td>\n",
       "      <td>y</td>\n",
       "      <td>n</td>\n",
       "      <td>...</td>\n",
       "      <td>n</td>\n",
       "      <td>n</td>\n",
       "      <td>n</td>\n",
       "      <td>n</td>\n",
       "      <td>n</td>\n",
       "      <td>n</td>\n",
       "      <td>NaN</td>\n",
       "      <td>y</td>\n",
       "      <td>NaN</td>\n",
       "      <td>-13</td>\n",
       "    </tr>\n",
       "    <tr>\n",
       "      <th>2</th>\n",
       "      <td>Acacia_auriculiformis.xls</td>\n",
       "      <td>N</td>\n",
       "      <td>Y</td>\n",
       "      <td>N</td>\n",
       "      <td>2</td>\n",
       "      <td>2</td>\n",
       "      <td>Y</td>\n",
       "      <td>Y</td>\n",
       "      <td>Y</td>\n",
       "      <td>Y</td>\n",
       "      <td>...</td>\n",
       "      <td>NaN</td>\n",
       "      <td>y</td>\n",
       "      <td>N</td>\n",
       "      <td>NaN</td>\n",
       "      <td>N</td>\n",
       "      <td>Y</td>\n",
       "      <td>y</td>\n",
       "      <td>Y</td>\n",
       "      <td>NaN</td>\n",
       "      <td>13</td>\n",
       "    </tr>\n",
       "    <tr>\n",
       "      <th>3</th>\n",
       "      <td>Acacia_confusa.xls</td>\n",
       "      <td>N</td>\n",
       "      <td>Y</td>\n",
       "      <td>N</td>\n",
       "      <td>2</td>\n",
       "      <td>2</td>\n",
       "      <td>N</td>\n",
       "      <td>Y</td>\n",
       "      <td>Y</td>\n",
       "      <td>Y</td>\n",
       "      <td>...</td>\n",
       "      <td>N</td>\n",
       "      <td>N</td>\n",
       "      <td>N</td>\n",
       "      <td>NaN</td>\n",
       "      <td>N</td>\n",
       "      <td>Y</td>\n",
       "      <td>NaN</td>\n",
       "      <td>Y</td>\n",
       "      <td>N</td>\n",
       "      <td>10</td>\n",
       "    </tr>\n",
       "    <tr>\n",
       "      <th>4</th>\n",
       "      <td>Acacia_crassicarpa.xls</td>\n",
       "      <td>n</td>\n",
       "      <td>y</td>\n",
       "      <td>n</td>\n",
       "      <td>2</td>\n",
       "      <td>2</td>\n",
       "      <td>n</td>\n",
       "      <td>y</td>\n",
       "      <td>n</td>\n",
       "      <td>y</td>\n",
       "      <td>...</td>\n",
       "      <td>NaN</td>\n",
       "      <td>n</td>\n",
       "      <td>n</td>\n",
       "      <td>y</td>\n",
       "      <td>n</td>\n",
       "      <td>y</td>\n",
       "      <td>NaN</td>\n",
       "      <td>y</td>\n",
       "      <td>NaN</td>\n",
       "      <td>7</td>\n",
       "    </tr>\n",
       "  </tbody>\n",
       "</table>\n",
       "<p>5 rows × 51 columns</p>\n",
       "</div>"
      ],
      "text/plain": [
       "                    Filename 1.01_domesticated 1.02_naturalized_grown  \\\n",
       "0                  File_name              1.01                   1.02   \n",
       "1   Abelia_x_grandiflora.xls                 y                      n   \n",
       "2  Acacia_auriculiformis.xls                 N                      Y   \n",
       "3         Acacia_confusa.xls                 N                      Y   \n",
       "4     Acacia_crassicarpa.xls                 n                      y   \n",
       "\n",
       "  1.03_weedy_races 2.01_clim_match 2.02_climmatch_qual 2.03_broad_clim  \\\n",
       "0             1.03            2.01                2.02            2.03   \n",
       "1                n               1                   2               y   \n",
       "2                N               2                   2               Y   \n",
       "3                N               2                   2               N   \n",
       "4                n               2                   2               n   \n",
       "\n",
       "  2.04_similar_clim 2.05_repeat_intro 3.01_beyond_native     ...       \\\n",
       "0              2.04              2.05               3.01     ...        \n",
       "1                 n                 y                  n     ...        \n",
       "2                 Y                 Y                  Y     ...        \n",
       "3                 Y                 Y                  Y     ...        \n",
       "4                 y                 n                  y     ...        \n",
       "\n",
       "  7.05_water_dispersal 7.06_bird_dispersal 7.07_animal_dispersal  \\\n",
       "0                 7.05                7.06                  7.07   \n",
       "1                    n                   n                     n   \n",
       "2                  NaN                   y                     N   \n",
       "3                    N                   N                     N   \n",
       "4                  NaN                   n                     n   \n",
       "\n",
       "  7.08_survive_gut 8.01_prolific_seeder 8.02_propagule_bank  \\\n",
       "0             7.08                 8.01                8.02   \n",
       "1                n                    n                   n   \n",
       "2              NaN                    N                   Y   \n",
       "3              NaN                    N                   Y   \n",
       "4                y                    n                   y   \n",
       "\n",
       "  8.03_herbicide_controlled 8.04_tolerates_mutilation 8.05_local_enemies  \\\n",
       "0                      8.03                      8.04               8.05   \n",
       "1                       NaN                         y                NaN   \n",
       "2                         y                         Y                NaN   \n",
       "3                       NaN                         Y                  N   \n",
       "4                       NaN                         y                NaN   \n",
       "\n",
       "  manual_score  \n",
       "0  total score  \n",
       "1          -13  \n",
       "2           13  \n",
       "3           10  \n",
       "4            7  \n",
       "\n",
       "[5 rows x 51 columns]"
      ]
     },
     "execution_count": 4,
     "metadata": {},
     "output_type": "execute_result"
    }
   ],
   "source": [
    "# visual check to make sure everything loaded okay\n",
    "CompiledData.head(5)"
   ]
  },
  {
   "cell_type": "code",
   "execution_count": 5,
   "metadata": {},
   "outputs": [],
   "source": [
    "#removing the old names in the first column\n",
    "HPWRA1 = CompiledData.iloc[1:]"
   ]
  },
  {
   "cell_type": "code",
   "execution_count": 12,
   "metadata": {
    "scrolled": true
   },
   "outputs": [
    {
     "data": {
      "text/html": [
       "<div>\n",
       "<style scoped>\n",
       "    .dataframe tbody tr th:only-of-type {\n",
       "        vertical-align: middle;\n",
       "    }\n",
       "\n",
       "    .dataframe tbody tr th {\n",
       "        vertical-align: top;\n",
       "    }\n",
       "\n",
       "    .dataframe thead th {\n",
       "        text-align: right;\n",
       "    }\n",
       "</style>\n",
       "<table border=\"1\" class=\"dataframe\">\n",
       "  <thead>\n",
       "    <tr style=\"text-align: right;\">\n",
       "      <th></th>\n",
       "      <th>Filename</th>\n",
       "      <th>1.01_domesticated</th>\n",
       "      <th>1.02_naturalized_grown</th>\n",
       "      <th>1.03_weedy_races</th>\n",
       "      <th>2.01_clim_match</th>\n",
       "      <th>2.02_climmatch_qual</th>\n",
       "      <th>2.03_broad_clim</th>\n",
       "      <th>2.04_similar_clim</th>\n",
       "      <th>2.05_repeat_intro</th>\n",
       "      <th>3.01_beyond_native</th>\n",
       "      <th>...</th>\n",
       "      <th>7.05_water_dispersal</th>\n",
       "      <th>7.06_bird_dispersal</th>\n",
       "      <th>7.07_animal_dispersal</th>\n",
       "      <th>7.08_survive_gut</th>\n",
       "      <th>8.01_prolific_seeder</th>\n",
       "      <th>8.02_propagule_bank</th>\n",
       "      <th>8.03_herbicide_controlled</th>\n",
       "      <th>8.04_tolerates_mutilation</th>\n",
       "      <th>8.05_local_enemies</th>\n",
       "      <th>manual_score</th>\n",
       "    </tr>\n",
       "  </thead>\n",
       "  <tbody>\n",
       "    <tr>\n",
       "      <th>1</th>\n",
       "      <td>Abelia_x_grandiflora.xls</td>\n",
       "      <td>Yes</td>\n",
       "      <td>n</td>\n",
       "      <td>n</td>\n",
       "      <td>1</td>\n",
       "      <td>2</td>\n",
       "      <td>y</td>\n",
       "      <td>n</td>\n",
       "      <td>y</td>\n",
       "      <td>n</td>\n",
       "      <td>...</td>\n",
       "      <td>n</td>\n",
       "      <td>n</td>\n",
       "      <td>n</td>\n",
       "      <td>n</td>\n",
       "      <td>n</td>\n",
       "      <td>n</td>\n",
       "      <td>NaN</td>\n",
       "      <td>y</td>\n",
       "      <td>NaN</td>\n",
       "      <td>-13</td>\n",
       "    </tr>\n",
       "    <tr>\n",
       "      <th>2</th>\n",
       "      <td>Acacia_auriculiformis.xls</td>\n",
       "      <td>No</td>\n",
       "      <td>Y</td>\n",
       "      <td>N</td>\n",
       "      <td>2</td>\n",
       "      <td>2</td>\n",
       "      <td>Y</td>\n",
       "      <td>Y</td>\n",
       "      <td>Y</td>\n",
       "      <td>Y</td>\n",
       "      <td>...</td>\n",
       "      <td>NaN</td>\n",
       "      <td>y</td>\n",
       "      <td>N</td>\n",
       "      <td>NaN</td>\n",
       "      <td>N</td>\n",
       "      <td>Y</td>\n",
       "      <td>y</td>\n",
       "      <td>Y</td>\n",
       "      <td>NaN</td>\n",
       "      <td>13</td>\n",
       "    </tr>\n",
       "    <tr>\n",
       "      <th>3</th>\n",
       "      <td>Acacia_confusa.xls</td>\n",
       "      <td>No</td>\n",
       "      <td>Y</td>\n",
       "      <td>N</td>\n",
       "      <td>2</td>\n",
       "      <td>2</td>\n",
       "      <td>N</td>\n",
       "      <td>Y</td>\n",
       "      <td>Y</td>\n",
       "      <td>Y</td>\n",
       "      <td>...</td>\n",
       "      <td>N</td>\n",
       "      <td>N</td>\n",
       "      <td>N</td>\n",
       "      <td>NaN</td>\n",
       "      <td>N</td>\n",
       "      <td>Y</td>\n",
       "      <td>NaN</td>\n",
       "      <td>Y</td>\n",
       "      <td>N</td>\n",
       "      <td>10</td>\n",
       "    </tr>\n",
       "    <tr>\n",
       "      <th>4</th>\n",
       "      <td>Acacia_crassicarpa.xls</td>\n",
       "      <td>No</td>\n",
       "      <td>y</td>\n",
       "      <td>n</td>\n",
       "      <td>2</td>\n",
       "      <td>2</td>\n",
       "      <td>n</td>\n",
       "      <td>y</td>\n",
       "      <td>n</td>\n",
       "      <td>y</td>\n",
       "      <td>...</td>\n",
       "      <td>NaN</td>\n",
       "      <td>n</td>\n",
       "      <td>n</td>\n",
       "      <td>y</td>\n",
       "      <td>n</td>\n",
       "      <td>y</td>\n",
       "      <td>NaN</td>\n",
       "      <td>y</td>\n",
       "      <td>NaN</td>\n",
       "      <td>7</td>\n",
       "    </tr>\n",
       "    <tr>\n",
       "      <th>5</th>\n",
       "      <td>Acacia_farnesiana.xls</td>\n",
       "      <td>No</td>\n",
       "      <td>y</td>\n",
       "      <td>n</td>\n",
       "      <td>2</td>\n",
       "      <td>2</td>\n",
       "      <td>y</td>\n",
       "      <td>y</td>\n",
       "      <td>y</td>\n",
       "      <td>y</td>\n",
       "      <td>...</td>\n",
       "      <td>n</td>\n",
       "      <td>NaN</td>\n",
       "      <td>n</td>\n",
       "      <td>y</td>\n",
       "      <td>n</td>\n",
       "      <td>y</td>\n",
       "      <td>y</td>\n",
       "      <td>y</td>\n",
       "      <td>NaN</td>\n",
       "      <td>14</td>\n",
       "    </tr>\n",
       "    <tr>\n",
       "      <th>6</th>\n",
       "      <td>Acacia_longifolia.xls</td>\n",
       "      <td>No</td>\n",
       "      <td>y</td>\n",
       "      <td>n</td>\n",
       "      <td>1</td>\n",
       "      <td>1</td>\n",
       "      <td>n</td>\n",
       "      <td>n</td>\n",
       "      <td>y</td>\n",
       "      <td>y</td>\n",
       "      <td>...</td>\n",
       "      <td>y</td>\n",
       "      <td>NaN</td>\n",
       "      <td>n</td>\n",
       "      <td>y</td>\n",
       "      <td>n</td>\n",
       "      <td>y</td>\n",
       "      <td>y</td>\n",
       "      <td>y</td>\n",
       "      <td>NaN</td>\n",
       "      <td>10</td>\n",
       "    </tr>\n",
       "    <tr>\n",
       "      <th>7</th>\n",
       "      <td>Acacia_mangium.xls</td>\n",
       "      <td>No</td>\n",
       "      <td>NaN</td>\n",
       "      <td>NaN</td>\n",
       "      <td>2</td>\n",
       "      <td>2</td>\n",
       "      <td>n</td>\n",
       "      <td>y</td>\n",
       "      <td>y</td>\n",
       "      <td>y</td>\n",
       "      <td>...</td>\n",
       "      <td>n</td>\n",
       "      <td>y</td>\n",
       "      <td>n</td>\n",
       "      <td>n</td>\n",
       "      <td>n</td>\n",
       "      <td>y</td>\n",
       "      <td>y</td>\n",
       "      <td>y</td>\n",
       "      <td>NaN</td>\n",
       "      <td>8</td>\n",
       "    </tr>\n",
       "    <tr>\n",
       "      <th>8</th>\n",
       "      <td>Acacia_mearnsii.xls</td>\n",
       "      <td>No</td>\n",
       "      <td>y</td>\n",
       "      <td>n</td>\n",
       "      <td>1</td>\n",
       "      <td>2</td>\n",
       "      <td>y</td>\n",
       "      <td>n</td>\n",
       "      <td>y</td>\n",
       "      <td>y</td>\n",
       "      <td>...</td>\n",
       "      <td>y</td>\n",
       "      <td>NaN</td>\n",
       "      <td>n</td>\n",
       "      <td>y</td>\n",
       "      <td>n</td>\n",
       "      <td>y</td>\n",
       "      <td>y</td>\n",
       "      <td>y</td>\n",
       "      <td>NaN</td>\n",
       "      <td>15</td>\n",
       "    </tr>\n",
       "    <tr>\n",
       "      <th>9</th>\n",
       "      <td>Acacia_melanoxylon.xls</td>\n",
       "      <td>No</td>\n",
       "      <td>y</td>\n",
       "      <td>n</td>\n",
       "      <td>1</td>\n",
       "      <td>2</td>\n",
       "      <td>y</td>\n",
       "      <td>y</td>\n",
       "      <td>y</td>\n",
       "      <td>y</td>\n",
       "      <td>...</td>\n",
       "      <td>NaN</td>\n",
       "      <td>NaN</td>\n",
       "      <td>n</td>\n",
       "      <td>NaN</td>\n",
       "      <td></td>\n",
       "      <td>y</td>\n",
       "      <td>n</td>\n",
       "      <td>y</td>\n",
       "      <td>n</td>\n",
       "      <td>12</td>\n",
       "    </tr>\n",
       "    <tr>\n",
       "      <th>10</th>\n",
       "      <td>Acacia_nilotica.xls</td>\n",
       "      <td>No</td>\n",
       "      <td>y</td>\n",
       "      <td>NaN</td>\n",
       "      <td>2</td>\n",
       "      <td>2</td>\n",
       "      <td>n</td>\n",
       "      <td>y</td>\n",
       "      <td>y</td>\n",
       "      <td>y</td>\n",
       "      <td>...</td>\n",
       "      <td>NaN</td>\n",
       "      <td>n</td>\n",
       "      <td>n</td>\n",
       "      <td>y</td>\n",
       "      <td>NaN</td>\n",
       "      <td>y</td>\n",
       "      <td>y</td>\n",
       "      <td>y</td>\n",
       "      <td>NaN</td>\n",
       "      <td>14</td>\n",
       "    </tr>\n",
       "    <tr>\n",
       "      <th>11</th>\n",
       "      <td>Acacia_parramattensis.xls</td>\n",
       "      <td>No</td>\n",
       "      <td>y</td>\n",
       "      <td>n</td>\n",
       "      <td>2</td>\n",
       "      <td>2</td>\n",
       "      <td>NaN</td>\n",
       "      <td>y</td>\n",
       "      <td>y</td>\n",
       "      <td>y</td>\n",
       "      <td>...</td>\n",
       "      <td>n</td>\n",
       "      <td>y</td>\n",
       "      <td>n</td>\n",
       "      <td>y</td>\n",
       "      <td>NaN</td>\n",
       "      <td>y</td>\n",
       "      <td>NaN</td>\n",
       "      <td>y</td>\n",
       "      <td>NaN</td>\n",
       "      <td>9</td>\n",
       "    </tr>\n",
       "    <tr>\n",
       "      <th>12</th>\n",
       "      <td>Acacia_pycnantha.xls</td>\n",
       "      <td>NaN</td>\n",
       "      <td>NaN</td>\n",
       "      <td>NaN</td>\n",
       "      <td>1</td>\n",
       "      <td>2</td>\n",
       "      <td>n</td>\n",
       "      <td>n</td>\n",
       "      <td>y</td>\n",
       "      <td>y</td>\n",
       "      <td>...</td>\n",
       "      <td>y</td>\n",
       "      <td>y</td>\n",
       "      <td>y</td>\n",
       "      <td>y</td>\n",
       "      <td>NaN</td>\n",
       "      <td>y</td>\n",
       "      <td>NaN</td>\n",
       "      <td>y</td>\n",
       "      <td>NaN</td>\n",
       "      <td>16</td>\n",
       "    </tr>\n",
       "    <tr>\n",
       "      <th>13</th>\n",
       "      <td>Acalypha_godseffiana.xls</td>\n",
       "      <td>No</td>\n",
       "      <td>n</td>\n",
       "      <td>n</td>\n",
       "      <td>2</td>\n",
       "      <td>1</td>\n",
       "      <td>n</td>\n",
       "      <td>y</td>\n",
       "      <td>y</td>\n",
       "      <td>n</td>\n",
       "      <td>...</td>\n",
       "      <td>n</td>\n",
       "      <td>n</td>\n",
       "      <td>n</td>\n",
       "      <td>n</td>\n",
       "      <td>n</td>\n",
       "      <td>NaN</td>\n",
       "      <td>y</td>\n",
       "      <td>y</td>\n",
       "      <td>NaN</td>\n",
       "      <td>-7</td>\n",
       "    </tr>\n",
       "    <tr>\n",
       "      <th>14</th>\n",
       "      <td>Acalypha_hispida.xls</td>\n",
       "      <td>No</td>\n",
       "      <td>y</td>\n",
       "      <td>n</td>\n",
       "      <td>2</td>\n",
       "      <td>2</td>\n",
       "      <td>n</td>\n",
       "      <td>y</td>\n",
       "      <td>y</td>\n",
       "      <td>y</td>\n",
       "      <td>...</td>\n",
       "      <td>n</td>\n",
       "      <td>n</td>\n",
       "      <td>n</td>\n",
       "      <td>NaN</td>\n",
       "      <td>n</td>\n",
       "      <td>NaN</td>\n",
       "      <td>NaN</td>\n",
       "      <td>NaN</td>\n",
       "      <td>NaN</td>\n",
       "      <td>2</td>\n",
       "    </tr>\n",
       "    <tr>\n",
       "      <th>15</th>\n",
       "      <td>Acalypha_wilkesiana.xls</td>\n",
       "      <td>No</td>\n",
       "      <td>y</td>\n",
       "      <td>n</td>\n",
       "      <td>2</td>\n",
       "      <td>2</td>\n",
       "      <td>n</td>\n",
       "      <td>y</td>\n",
       "      <td>y</td>\n",
       "      <td>y</td>\n",
       "      <td>...</td>\n",
       "      <td>n</td>\n",
       "      <td>n</td>\n",
       "      <td>n</td>\n",
       "      <td>n</td>\n",
       "      <td>n</td>\n",
       "      <td>NaN</td>\n",
       "      <td>y</td>\n",
       "      <td>NaN</td>\n",
       "      <td>NaN</td>\n",
       "      <td>-2</td>\n",
       "    </tr>\n",
       "    <tr>\n",
       "      <th>16</th>\n",
       "      <td>Acmella_grandiflora.xls</td>\n",
       "      <td>No</td>\n",
       "      <td>NaN</td>\n",
       "      <td>NaN</td>\n",
       "      <td>2</td>\n",
       "      <td>2</td>\n",
       "      <td>NaN</td>\n",
       "      <td>y</td>\n",
       "      <td>y</td>\n",
       "      <td>n</td>\n",
       "      <td>...</td>\n",
       "      <td>n</td>\n",
       "      <td>n</td>\n",
       "      <td>NaN</td>\n",
       "      <td>n</td>\n",
       "      <td>NaN</td>\n",
       "      <td>NaN</td>\n",
       "      <td>NaN</td>\n",
       "      <td>NaN</td>\n",
       "      <td>NaN</td>\n",
       "      <td>0</td>\n",
       "    </tr>\n",
       "    <tr>\n",
       "      <th>17</th>\n",
       "      <td>Acoelorraphe_wrightii.xls</td>\n",
       "      <td>No</td>\n",
       "      <td>n</td>\n",
       "      <td>n</td>\n",
       "      <td>2</td>\n",
       "      <td>2</td>\n",
       "      <td>n</td>\n",
       "      <td>y</td>\n",
       "      <td>n</td>\n",
       "      <td>n</td>\n",
       "      <td>...</td>\n",
       "      <td>n</td>\n",
       "      <td>y</td>\n",
       "      <td>n</td>\n",
       "      <td>y</td>\n",
       "      <td>n</td>\n",
       "      <td>n</td>\n",
       "      <td>NaN</td>\n",
       "      <td>y</td>\n",
       "      <td>NaN</td>\n",
       "      <td>2</td>\n",
       "    </tr>\n",
       "    <tr>\n",
       "      <th>18</th>\n",
       "      <td>Adansonia_digitata.xls</td>\n",
       "      <td>No</td>\n",
       "      <td>n</td>\n",
       "      <td>n</td>\n",
       "      <td>2</td>\n",
       "      <td>2</td>\n",
       "      <td>n</td>\n",
       "      <td>y</td>\n",
       "      <td>y</td>\n",
       "      <td>n</td>\n",
       "      <td>...</td>\n",
       "      <td>n</td>\n",
       "      <td>n</td>\n",
       "      <td>n</td>\n",
       "      <td>y</td>\n",
       "      <td>n</td>\n",
       "      <td>y</td>\n",
       "      <td>NaN</td>\n",
       "      <td>y</td>\n",
       "      <td>NaN</td>\n",
       "      <td>-6</td>\n",
       "    </tr>\n",
       "    <tr>\n",
       "      <th>19</th>\n",
       "      <td>Adenanthera_pavonina.xls</td>\n",
       "      <td>No</td>\n",
       "      <td>y</td>\n",
       "      <td>n</td>\n",
       "      <td>2</td>\n",
       "      <td>2</td>\n",
       "      <td>n</td>\n",
       "      <td>y</td>\n",
       "      <td>y</td>\n",
       "      <td>y</td>\n",
       "      <td>...</td>\n",
       "      <td>n</td>\n",
       "      <td>y</td>\n",
       "      <td>n</td>\n",
       "      <td>y</td>\n",
       "      <td>n</td>\n",
       "      <td>y</td>\n",
       "      <td>y</td>\n",
       "      <td>y</td>\n",
       "      <td>NaN</td>\n",
       "      <td>7</td>\n",
       "    </tr>\n",
       "    <tr>\n",
       "      <th>20</th>\n",
       "      <td>Adenium_obesum.xls</td>\n",
       "      <td>No</td>\n",
       "      <td>n</td>\n",
       "      <td>n</td>\n",
       "      <td>2</td>\n",
       "      <td>2</td>\n",
       "      <td>n</td>\n",
       "      <td>y</td>\n",
       "      <td>y</td>\n",
       "      <td>n</td>\n",
       "      <td>...</td>\n",
       "      <td>n</td>\n",
       "      <td>n</td>\n",
       "      <td>n</td>\n",
       "      <td>n</td>\n",
       "      <td>n</td>\n",
       "      <td>n</td>\n",
       "      <td>y</td>\n",
       "      <td>n</td>\n",
       "      <td>NaN</td>\n",
       "      <td>-8</td>\n",
       "    </tr>\n",
       "    <tr>\n",
       "      <th>21</th>\n",
       "      <td>Aechmea_blanchetiana.xls</td>\n",
       "      <td>No</td>\n",
       "      <td>n</td>\n",
       "      <td>n</td>\n",
       "      <td>2</td>\n",
       "      <td>2</td>\n",
       "      <td>n</td>\n",
       "      <td>y</td>\n",
       "      <td>y</td>\n",
       "      <td>n</td>\n",
       "      <td>...</td>\n",
       "      <td>n</td>\n",
       "      <td>y</td>\n",
       "      <td>n</td>\n",
       "      <td>y</td>\n",
       "      <td>n</td>\n",
       "      <td>NaN</td>\n",
       "      <td>NaN</td>\n",
       "      <td>NaN</td>\n",
       "      <td>NaN</td>\n",
       "      <td>0</td>\n",
       "    </tr>\n",
       "    <tr>\n",
       "      <th>22</th>\n",
       "      <td>Aechmea_fasicata.xls</td>\n",
       "      <td>No</td>\n",
       "      <td>n</td>\n",
       "      <td>n</td>\n",
       "      <td>2</td>\n",
       "      <td>2</td>\n",
       "      <td>n</td>\n",
       "      <td>y</td>\n",
       "      <td>y</td>\n",
       "      <td>n</td>\n",
       "      <td>...</td>\n",
       "      <td>n</td>\n",
       "      <td>y</td>\n",
       "      <td>NaN</td>\n",
       "      <td>y</td>\n",
       "      <td>n</td>\n",
       "      <td>n</td>\n",
       "      <td>n</td>\n",
       "      <td>NaN</td>\n",
       "      <td>NaN</td>\n",
       "      <td>2</td>\n",
       "    </tr>\n",
       "    <tr>\n",
       "      <th>23</th>\n",
       "      <td>Aeschynomene_americana.xls</td>\n",
       "      <td>No</td>\n",
       "      <td>y</td>\n",
       "      <td>n</td>\n",
       "      <td>2</td>\n",
       "      <td>2</td>\n",
       "      <td>n</td>\n",
       "      <td>y</td>\n",
       "      <td>y</td>\n",
       "      <td>y</td>\n",
       "      <td>...</td>\n",
       "      <td>n</td>\n",
       "      <td>n</td>\n",
       "      <td>y</td>\n",
       "      <td>y</td>\n",
       "      <td>n</td>\n",
       "      <td>y</td>\n",
       "      <td>NaN</td>\n",
       "      <td>y</td>\n",
       "      <td>NaN</td>\n",
       "      <td>12</td>\n",
       "    </tr>\n",
       "    <tr>\n",
       "      <th>24</th>\n",
       "      <td>Afrocarpus_falcatus.xls</td>\n",
       "      <td>No</td>\n",
       "      <td>n</td>\n",
       "      <td>n</td>\n",
       "      <td>2</td>\n",
       "      <td>2</td>\n",
       "      <td>y</td>\n",
       "      <td>y</td>\n",
       "      <td>y</td>\n",
       "      <td>n</td>\n",
       "      <td>...</td>\n",
       "      <td>n</td>\n",
       "      <td>y</td>\n",
       "      <td>n</td>\n",
       "      <td>y</td>\n",
       "      <td>n</td>\n",
       "      <td>y</td>\n",
       "      <td>NaN</td>\n",
       "      <td>y</td>\n",
       "      <td>NaN</td>\n",
       "      <td>0</td>\n",
       "    </tr>\n",
       "    <tr>\n",
       "      <th>25</th>\n",
       "      <td>Agapanthus_africanus.xls</td>\n",
       "      <td>No</td>\n",
       "      <td>NaN</td>\n",
       "      <td>NaN</td>\n",
       "      <td>1</td>\n",
       "      <td>1</td>\n",
       "      <td>y</td>\n",
       "      <td>n</td>\n",
       "      <td>y</td>\n",
       "      <td>n</td>\n",
       "      <td>...</td>\n",
       "      <td>n</td>\n",
       "      <td>n</td>\n",
       "      <td>n</td>\n",
       "      <td>n</td>\n",
       "      <td>n</td>\n",
       "      <td>NaN</td>\n",
       "      <td>NaN</td>\n",
       "      <td>y</td>\n",
       "      <td>NaN</td>\n",
       "      <td>2.5</td>\n",
       "    </tr>\n",
       "  </tbody>\n",
       "</table>\n",
       "<p>25 rows × 51 columns</p>\n",
       "</div>"
      ],
      "text/plain": [
       "                      Filename 1.01_domesticated 1.02_naturalized_grown  \\\n",
       "1     Abelia_x_grandiflora.xls               Yes                      n   \n",
       "2    Acacia_auriculiformis.xls                No                      Y   \n",
       "3           Acacia_confusa.xls                No                      Y   \n",
       "4       Acacia_crassicarpa.xls                No                      y   \n",
       "5        Acacia_farnesiana.xls                No                      y   \n",
       "6        Acacia_longifolia.xls                No                      y   \n",
       "7           Acacia_mangium.xls                No                    NaN   \n",
       "8          Acacia_mearnsii.xls                No                      y   \n",
       "9       Acacia_melanoxylon.xls                No                      y   \n",
       "10         Acacia_nilotica.xls                No                      y   \n",
       "11   Acacia_parramattensis.xls                No                      y   \n",
       "12        Acacia_pycnantha.xls               NaN                    NaN   \n",
       "13    Acalypha_godseffiana.xls                No                      n   \n",
       "14        Acalypha_hispida.xls                No                      y   \n",
       "15     Acalypha_wilkesiana.xls                No                      y   \n",
       "16     Acmella_grandiflora.xls                No                    NaN   \n",
       "17   Acoelorraphe_wrightii.xls                No                      n   \n",
       "18      Adansonia_digitata.xls                No                      n   \n",
       "19    Adenanthera_pavonina.xls                No                      y   \n",
       "20          Adenium_obesum.xls                No                      n   \n",
       "21    Aechmea_blanchetiana.xls                No                      n   \n",
       "22        Aechmea_fasicata.xls                No                      n   \n",
       "23  Aeschynomene_americana.xls                No                      y   \n",
       "24     Afrocarpus_falcatus.xls                No                      n   \n",
       "25    Agapanthus_africanus.xls                No                    NaN   \n",
       "\n",
       "   1.03_weedy_races 2.01_clim_match 2.02_climmatch_qual 2.03_broad_clim  \\\n",
       "1                 n               1                   2               y   \n",
       "2                 N               2                   2               Y   \n",
       "3                 N               2                   2               N   \n",
       "4                 n               2                   2               n   \n",
       "5                 n               2                   2               y   \n",
       "6                 n               1                   1               n   \n",
       "7               NaN               2                   2               n   \n",
       "8                 n               1                   2               y   \n",
       "9                n                1                   2               y   \n",
       "10              NaN               2                   2               n   \n",
       "11                n               2                   2             NaN   \n",
       "12              NaN               1                   2               n   \n",
       "13                n               2                   1               n   \n",
       "14                n               2                   2               n   \n",
       "15                n               2                   2               n   \n",
       "16              NaN               2                   2             NaN   \n",
       "17                n               2                   2               n   \n",
       "18                n               2                   2               n   \n",
       "19                n               2                   2               n   \n",
       "20                n               2                   2               n   \n",
       "21                n               2                   2               n   \n",
       "22                n               2                   2               n   \n",
       "23                n               2                   2               n   \n",
       "24                n               2                   2               y   \n",
       "25              NaN               1                   1               y   \n",
       "\n",
       "   2.04_similar_clim 2.05_repeat_intro 3.01_beyond_native     ...       \\\n",
       "1                  n                 y                  n     ...        \n",
       "2                  Y                 Y                  Y     ...        \n",
       "3                  Y                 Y                  Y     ...        \n",
       "4                  y                 n                  y     ...        \n",
       "5                  y                 y                  y     ...        \n",
       "6                  n                 y                  y     ...        \n",
       "7                  y                 y                  y     ...        \n",
       "8                  n                 y                  y     ...        \n",
       "9                  y                 y                  y     ...        \n",
       "10                 y                 y                  y     ...        \n",
       "11                 y                 y                  y     ...        \n",
       "12                 n                 y                  y     ...        \n",
       "13                 y                 y                  n     ...        \n",
       "14                 y                 y                  y     ...        \n",
       "15                 y                 y                  y     ...        \n",
       "16                 y                 y                  n     ...        \n",
       "17                 y                 n                  n     ...        \n",
       "18                 y                 y                  n     ...        \n",
       "19                 y                 y                  y     ...        \n",
       "20                 y                 y                  n     ...        \n",
       "21                 y                 y                  n     ...        \n",
       "22                 y                 y                  n     ...        \n",
       "23                 y                 y                  y     ...        \n",
       "24                 y                 y                  n     ...        \n",
       "25                 n                 y                  n     ...        \n",
       "\n",
       "   7.05_water_dispersal 7.06_bird_dispersal 7.07_animal_dispersal  \\\n",
       "1                     n                   n                     n   \n",
       "2                   NaN                   y                     N   \n",
       "3                     N                   N                     N   \n",
       "4                   NaN                   n                     n   \n",
       "5                     n                 NaN                     n   \n",
       "6                     y                 NaN                     n   \n",
       "7                     n                   y                     n   \n",
       "8                     y                 NaN                     n   \n",
       "9                   NaN                 NaN                     n   \n",
       "10                  NaN                   n                     n   \n",
       "11                    n                   y                     n   \n",
       "12                    y                   y                     y   \n",
       "13                    n                   n                     n   \n",
       "14                    n                   n                     n   \n",
       "15                    n                   n                     n   \n",
       "16                    n                   n                   NaN   \n",
       "17                    n                   y                     n   \n",
       "18                    n                   n                     n   \n",
       "19                    n                   y                     n   \n",
       "20                    n                   n                     n   \n",
       "21                    n                   y                     n   \n",
       "22                    n                   y                   NaN   \n",
       "23                    n                   n                     y   \n",
       "24                    n                   y                     n   \n",
       "25                    n                   n                     n   \n",
       "\n",
       "   7.08_survive_gut 8.01_prolific_seeder 8.02_propagule_bank  \\\n",
       "1                 n                    n                   n   \n",
       "2               NaN                    N                   Y   \n",
       "3               NaN                    N                   Y   \n",
       "4                 y                    n                   y   \n",
       "5                 y                    n                   y   \n",
       "6                 y                    n                   y   \n",
       "7                 n                    n                   y   \n",
       "8                 y                    n                   y   \n",
       "9               NaN                                        y   \n",
       "10                y                  NaN                   y   \n",
       "11                y                  NaN                   y   \n",
       "12                y                  NaN                   y   \n",
       "13                n                    n                 NaN   \n",
       "14              NaN                    n                 NaN   \n",
       "15                n                    n                 NaN   \n",
       "16                n                  NaN                 NaN   \n",
       "17                y                    n                   n   \n",
       "18                y                    n                   y   \n",
       "19                y                    n                   y   \n",
       "20                n                    n                   n   \n",
       "21                y                    n                 NaN   \n",
       "22                y                    n                   n   \n",
       "23                y                    n                   y   \n",
       "24                y                    n                   y   \n",
       "25                n                    n                 NaN   \n",
       "\n",
       "   8.03_herbicide_controlled 8.04_tolerates_mutilation 8.05_local_enemies  \\\n",
       "1                        NaN                         y                NaN   \n",
       "2                          y                         Y                NaN   \n",
       "3                        NaN                         Y                  N   \n",
       "4                        NaN                         y                NaN   \n",
       "5                          y                         y                NaN   \n",
       "6                          y                         y                NaN   \n",
       "7                          y                         y                NaN   \n",
       "8                          y                         y                NaN   \n",
       "9                          n                         y                  n   \n",
       "10                         y                         y                NaN   \n",
       "11                       NaN                         y                NaN   \n",
       "12                       NaN                         y                NaN   \n",
       "13                         y                         y                NaN   \n",
       "14                       NaN                       NaN                NaN   \n",
       "15                         y                       NaN                NaN   \n",
       "16                       NaN                       NaN                NaN   \n",
       "17                       NaN                         y                NaN   \n",
       "18                       NaN                         y                NaN   \n",
       "19                         y                         y                NaN   \n",
       "20                         y                         n                NaN   \n",
       "21                       NaN                       NaN                NaN   \n",
       "22                         n                       NaN                NaN   \n",
       "23                       NaN                         y                NaN   \n",
       "24                       NaN                         y                NaN   \n",
       "25                       NaN                         y                NaN   \n",
       "\n",
       "   manual_score  \n",
       "1           -13  \n",
       "2            13  \n",
       "3            10  \n",
       "4             7  \n",
       "5            14  \n",
       "6            10  \n",
       "7             8  \n",
       "8            15  \n",
       "9            12  \n",
       "10           14  \n",
       "11            9  \n",
       "12           16  \n",
       "13           -7  \n",
       "14            2  \n",
       "15           -2  \n",
       "16            0  \n",
       "17            2  \n",
       "18           -6  \n",
       "19            7  \n",
       "20           -8  \n",
       "21            0  \n",
       "22            2  \n",
       "23           12  \n",
       "24            0  \n",
       "25          2.5  \n",
       "\n",
       "[25 rows x 51 columns]"
      ]
     },
     "execution_count": 12,
     "metadata": {},
     "output_type": "execute_result"
    }
   ],
   "source": [
    "HPWRA1.head(5)"
   ]
  },
  {
   "cell_type": "code",
   "execution_count": 7,
   "metadata": {},
   "outputs": [
    {
     "name": "stdout",
     "output_type": "stream",
     "text": [
      "Number of Assessments in Data Set = 2068\n"
     ]
    }
   ],
   "source": [
    "# Let's return the # of rows\n",
    "print( \"Number of Assessments in Data Set = \" + str(len(HPWRA1)))"
   ]
  },
  {
   "cell_type": "code",
   "execution_count": 8,
   "metadata": {},
   "outputs": [
    {
     "data": {
      "text/plain": [
       "(2068, 51)"
      ]
     },
     "execution_count": 8,
     "metadata": {},
     "output_type": "execute_result"
    }
   ],
   "source": [
    "HPWRA1.shape"
   ]
  },
  {
   "cell_type": "markdown",
   "metadata": {},
   "source": [
    "## Manual Data Cleaning\n",
    "\n",
    "the following changes were made to the UltimateDataCompilation.csv file in Microsoft Excel:\n",
    " - Some of the missing scores and misaligned data set were modified. \n",
    " - re-entered Tabebuia berteroi.xls - was shifted one column to the left\n",
    " - re-entered Brya ebenus.pdf - all missing data columns were skipped.\n",
    " - re-entered Archontophoenix alexandrae.xls - contained 0s instead of y/n\n",
    " - re-entered Eucalyptus gradis.xls - there was an error on the original file\n",
    " \n",
    " "
   ]
  },
  {
   "cell_type": "code",
   "execution_count": 27,
   "metadata": {},
   "outputs": [],
   "source": [
    "# need a dictionary \n",
    "yesno_dict = {'no':\"No\", 'n':\"No\", ' n':\"No\", 'n ':\"No\", 'N':\"No\", ' N':\"No\",'N ':\"No\", 'yes':\"Yes\",\n",
    "              'y':\"Yes\", ' y':\"Yes\", 'y ':\"Yes\", 'Y':\"Yes\", ' Y':\"Yes\",'Y ':\"Yes\",\n",
    "              ' ':None, '  ':None, '?':None, '0':None, 'None':None, ' None':None}\n"
   ]
  },
  {
   "cell_type": "code",
   "execution_count": 11,
   "metadata": {},
   "outputs": [],
   "source": [
    "# Global plant history Q's: let's change y/n questions to binary 0s and 1s \n",
    "HPWRA1[\"1.01_domesticated\"].replace(yesno_dict, inplace=True)"
   ]
  },
  {
   "cell_type": "code",
   "execution_count": 13,
   "metadata": {},
   "outputs": [],
   "source": [
    "HPWRA1[\"1.02_naturalized_grown\"].replace(yesno_dict, inplace=True)\n",
    "HPWRA1[\"1.03_weedy_races\"].replace(yesno_dict, inplace=True)"
   ]
  },
  {
   "cell_type": "code",
   "execution_count": 14,
   "metadata": {},
   "outputs": [
    {
     "data": {
      "text/plain": [
       "array(['Yes', 'No', nan], dtype=object)"
      ]
     },
     "execution_count": 14,
     "metadata": {},
     "output_type": "execute_result"
    }
   ],
   "source": [
    "#Check: \n",
    "HPWRA1[\"1.01_domesticated\"].unique()"
   ]
  },
  {
   "cell_type": "code",
   "execution_count": 15,
   "metadata": {},
   "outputs": [
    {
     "data": {
      "text/plain": [
       "array(['No', 'Yes', nan], dtype=object)"
      ]
     },
     "execution_count": 15,
     "metadata": {},
     "output_type": "execute_result"
    }
   ],
   "source": [
    "HPWRA1[\"1.02_naturalized_grown\"].unique()"
   ]
  },
  {
   "cell_type": "code",
   "execution_count": 16,
   "metadata": {},
   "outputs": [
    {
     "data": {
      "text/plain": [
       "array(['No', nan, 'Yes'], dtype=object)"
      ]
     },
     "execution_count": 16,
     "metadata": {},
     "output_type": "execute_result"
    }
   ],
   "source": [
    "HPWRA1[\"1.03_weedy_races\"].unique()"
   ]
  },
  {
   "cell_type": "code",
   "execution_count": 17,
   "metadata": {},
   "outputs": [],
   "source": [
    "# we need dictionary for questions about climate suitability\n",
    "lowmedhigh_dict = {\"Low\": \"Low\", \"Intermediate\": \"Intermediate\", \"int\" : \"Intermediate\", \"Int\":\"Intermediate\",\"High\":\"High\", \"0\":\"Low\", \"1\":\"Intermediate\", \"2\":\"High\"}\n",
    "\n",
    "# Climate suitability Q's: let's change the answers to 0s, 1s and 2s.\n",
    "HPWRA1[\"2.01_clim_match\"].replace(lowmedhigh_dict, inplace=True)\n",
    "HPWRA1[\"2.02_climmatch_qual\"].replace(lowmedhigh_dict, inplace=True)"
   ]
  },
  {
   "cell_type": "code",
   "execution_count": 18,
   "metadata": {},
   "outputs": [
    {
     "data": {
      "text/plain": [
       "array(['Intermediate', 'High', 'Low', nan], dtype=object)"
      ]
     },
     "execution_count": 18,
     "metadata": {},
     "output_type": "execute_result"
    }
   ],
   "source": [
    "#Check: there should be only 0,1,2s and Nan left\n",
    "HPWRA1[\"2.01_clim_match\"].unique()"
   ]
  },
  {
   "cell_type": "code",
   "execution_count": 19,
   "metadata": {},
   "outputs": [
    {
     "data": {
      "text/plain": [
       "array(['High', 'Intermediate', 'Low', nan], dtype=object)"
      ]
     },
     "execution_count": 19,
     "metadata": {},
     "output_type": "execute_result"
    }
   ],
   "source": [
    "HPWRA1[\"2.02_climmatch_qual\"].unique()"
   ]
  },
  {
   "cell_type": "code",
   "execution_count": 20,
   "metadata": {},
   "outputs": [],
   "source": [
    "# More climate suitability Q's, but these ones are y/n: let's change y/n questions to 0s, 1s \n",
    "HPWRA1[\"2.03_broad_clim\"].replace(yesno_dict, inplace=True)\n",
    "HPWRA1[\"2.04_similar_clim\"].replace(yesno_dict, inplace=True)\n",
    "HPWRA1[\"2.05_repeat_intro\"].replace(yesno_dict, inplace=True)"
   ]
  },
  {
   "cell_type": "code",
   "execution_count": 21,
   "metadata": {},
   "outputs": [
    {
     "data": {
      "text/plain": [
       "array(['Yes', 'No', nan], dtype=object)"
      ]
     },
     "execution_count": 21,
     "metadata": {},
     "output_type": "execute_result"
    }
   ],
   "source": [
    "#Check: make sure there's nothing but 0s,1s, and NaN left\n",
    "HPWRA1[\"2.03_broad_clim\"].unique()"
   ]
  },
  {
   "cell_type": "code",
   "execution_count": 22,
   "metadata": {},
   "outputs": [
    {
     "data": {
      "text/plain": [
       "array(['No', 'Yes', nan], dtype=object)"
      ]
     },
     "execution_count": 22,
     "metadata": {},
     "output_type": "execute_result"
    }
   ],
   "source": [
    "HPWRA1[\"2.04_similar_clim\"].unique()"
   ]
  },
  {
   "cell_type": "code",
   "execution_count": 28,
   "metadata": {},
   "outputs": [
    {
     "data": {
      "text/plain": [
       "array(['Yes', 'No', nan, None], dtype=object)"
      ]
     },
     "execution_count": 28,
     "metadata": {},
     "output_type": "execute_result"
    }
   ],
   "source": [
    "HPWRA1[\"2.05_repeat_intro\"].unique()"
   ]
  },
  {
   "cell_type": "code",
   "execution_count": 24,
   "metadata": {},
   "outputs": [],
   "source": [
    "# Q's about how a plant has behaved elsewhere in the world: let's change y/n to 1/0\n",
    "HPWRA1[\"3.01_beyond_native\"].replace(yesno_dict, inplace=True)\n",
    "HPWRA1[\"3.02_disturbance_weed\"].replace(yesno_dict, inplace=True)\n",
    "HPWRA1['3.03_agri_forestry_weed'].replace(yesno_dict, inplace=True)\n",
    "HPWRA1['3.04_enviro_weed'].replace(yesno_dict, inplace=True)\n",
    "HPWRA1['3.05_congener'].replace(yesno_dict, inplace=True)"
   ]
  },
  {
   "cell_type": "code",
   "execution_count": 25,
   "metadata": {},
   "outputs": [
    {
     "data": {
      "text/plain": [
       "array(['No', 'Yes', nan], dtype=object)"
      ]
     },
     "execution_count": 25,
     "metadata": {},
     "output_type": "execute_result"
    }
   ],
   "source": [
    "#Check: make sure there's nothing but 0s,1s, and NaN left\n",
    "HPWRA1[\"3.01_beyond_native\"].unique()"
   ]
  },
  {
   "cell_type": "code",
   "execution_count": 26,
   "metadata": {},
   "outputs": [
    {
     "data": {
      "text/plain": [
       "array(['No', 'Yes', nan, None], dtype=object)"
      ]
     },
     "execution_count": 26,
     "metadata": {},
     "output_type": "execute_result"
    }
   ],
   "source": [
    "HPWRA1[\"3.02_disturbance_weed\"].unique()"
   ]
  },
  {
   "cell_type": "code",
   "execution_count": 29,
   "metadata": {},
   "outputs": [
    {
     "data": {
      "text/plain": [
       "array(['No', 'Yes', nan, None], dtype=object)"
      ]
     },
     "execution_count": 29,
     "metadata": {},
     "output_type": "execute_result"
    }
   ],
   "source": [
    "HPWRA1[\"3.03_agri_forestry_weed\"].unique()"
   ]
  },
  {
   "cell_type": "code",
   "execution_count": 30,
   "metadata": {},
   "outputs": [
    {
     "data": {
      "text/plain": [
       "array(['No', 'Yes', nan, None], dtype=object)"
      ]
     },
     "execution_count": 30,
     "metadata": {},
     "output_type": "execute_result"
    }
   ],
   "source": [
    "HPWRA1['3.04_enviro_weed'].unique()"
   ]
  },
  {
   "cell_type": "code",
   "execution_count": 31,
   "metadata": {},
   "outputs": [
    {
     "data": {
      "text/plain": [
       "array(['No', 'Yes', nan], dtype=object)"
      ]
     },
     "execution_count": 31,
     "metadata": {},
     "output_type": "execute_result"
    }
   ],
   "source": [
    "HPWRA1['3.05_congener'].unique()"
   ]
  },
  {
   "cell_type": "code",
   "execution_count": 32,
   "metadata": {},
   "outputs": [],
   "source": [
    "# Q's about undesireable traits: let's convert y/n to binary 1/0s\n",
    "HPWRA1['4.01_spiny'].replace(yesno_dict, inplace=True)\n",
    "HPWRA1['4.02_allelopathic'].replace(yesno_dict, inplace=True)\n",
    "HPWRA1['4.03_parasitic'].replace(yesno_dict, inplace=True)\n",
    "HPWRA1['4.04_unpalatable'].replace(yesno_dict, inplace=True)\n",
    "HPWRA1['4.05_toxic'].replace(yesno_dict, inplace=True)\n",
    "HPWRA1['4.06_alternate_host'].replace(yesno_dict, inplace=True)\n",
    "HPWRA1['4.07_allergies'].replace(yesno_dict, inplace=True)\n",
    "HPWRA1['4.08_fire_hazard'].replace(yesno_dict, inplace=True)\n",
    "HPWRA1['4.09_shade_tolerant'].replace(yesno_dict, inplace=True)\n",
    "HPWRA1['4.10_tolerates_soilcond'].replace(yesno_dict, inplace=True)\n",
    "HPWRA1['4.11_climber'].replace(yesno_dict, inplace=True)\n",
    "HPWRA1['4.12_forms_thickets'].replace(yesno_dict, inplace=True)"
   ]
  },
  {
   "cell_type": "code",
   "execution_count": 33,
   "metadata": {},
   "outputs": [
    {
     "data": {
      "text/plain": [
       "array(['No', 'Yes', nan], dtype=object)"
      ]
     },
     "execution_count": 33,
     "metadata": {},
     "output_type": "execute_result"
    }
   ],
   "source": [
    "#Check: make sure there's nothing but 0s,1s, and NaN left\n",
    "HPWRA1['4.01_spiny'].unique()"
   ]
  },
  {
   "cell_type": "code",
   "execution_count": 34,
   "metadata": {},
   "outputs": [
    {
     "data": {
      "text/plain": [
       "array(['No', 'Yes', nan], dtype=object)"
      ]
     },
     "execution_count": 34,
     "metadata": {},
     "output_type": "execute_result"
    }
   ],
   "source": [
    "HPWRA1['4.02_allelopathic'].unique()"
   ]
  },
  {
   "cell_type": "code",
   "execution_count": 35,
   "metadata": {},
   "outputs": [
    {
     "data": {
      "text/plain": [
       "array(['No', 'Yes', nan], dtype=object)"
      ]
     },
     "execution_count": 35,
     "metadata": {},
     "output_type": "execute_result"
    }
   ],
   "source": [
    "HPWRA1['4.03_parasitic'].unique()"
   ]
  },
  {
   "cell_type": "code",
   "execution_count": 36,
   "metadata": {},
   "outputs": [
    {
     "data": {
      "text/plain": [
       "array(['Yes', nan, 'No', None], dtype=object)"
      ]
     },
     "execution_count": 36,
     "metadata": {},
     "output_type": "execute_result"
    }
   ],
   "source": [
    "HPWRA1['4.04_unpalatable'].unique()"
   ]
  },
  {
   "cell_type": "code",
   "execution_count": 37,
   "metadata": {},
   "outputs": [
    {
     "data": {
      "text/plain": [
       "array(['No', nan, 'Yes'], dtype=object)"
      ]
     },
     "execution_count": 37,
     "metadata": {},
     "output_type": "execute_result"
    }
   ],
   "source": [
    "HPWRA1['4.05_toxic'].unique()"
   ]
  },
  {
   "cell_type": "code",
   "execution_count": 38,
   "metadata": {},
   "outputs": [
    {
     "data": {
      "text/plain": [
       "array(['No', 'Yes', nan], dtype=object)"
      ]
     },
     "execution_count": 38,
     "metadata": {},
     "output_type": "execute_result"
    }
   ],
   "source": [
    "HPWRA1['4.06_alternate_host'].unique()"
   ]
  },
  {
   "cell_type": "code",
   "execution_count": 39,
   "metadata": {},
   "outputs": [
    {
     "data": {
      "text/plain": [
       "array(['No', nan, 'Yes', None], dtype=object)"
      ]
     },
     "execution_count": 39,
     "metadata": {},
     "output_type": "execute_result"
    }
   ],
   "source": [
    "HPWRA1['4.07_allergies'].unique()"
   ]
  },
  {
   "cell_type": "code",
   "execution_count": 40,
   "metadata": {},
   "outputs": [
    {
     "data": {
      "text/plain": [
       "array(['No', nan, 'Yes', None], dtype=object)"
      ]
     },
     "execution_count": 40,
     "metadata": {},
     "output_type": "execute_result"
    }
   ],
   "source": [
    "HPWRA1['4.08_fire_hazard'].unique()"
   ]
  },
  {
   "cell_type": "code",
   "execution_count": 41,
   "metadata": {},
   "outputs": [
    {
     "data": {
      "text/plain": [
       "array(['Yes', nan, 'No', None], dtype=object)"
      ]
     },
     "execution_count": 41,
     "metadata": {},
     "output_type": "execute_result"
    }
   ],
   "source": [
    "HPWRA1['4.09_shade_tolerant'].unique()"
   ]
  },
  {
   "cell_type": "code",
   "execution_count": 42,
   "metadata": {},
   "outputs": [
    {
     "data": {
      "text/plain": [
       "array(['Yes', 'No', nan], dtype=object)"
      ]
     },
     "execution_count": 42,
     "metadata": {},
     "output_type": "execute_result"
    }
   ],
   "source": [
    "HPWRA1['4.10_tolerates_soilcond'].unique()"
   ]
  },
  {
   "cell_type": "code",
   "execution_count": 43,
   "metadata": {},
   "outputs": [
    {
     "data": {
      "text/plain": [
       "array(['No', 'Yes', nan], dtype=object)"
      ]
     },
     "execution_count": 43,
     "metadata": {},
     "output_type": "execute_result"
    }
   ],
   "source": [
    "HPWRA1['4.11_climber'].unique()"
   ]
  },
  {
   "cell_type": "code",
   "execution_count": 44,
   "metadata": {},
   "outputs": [
    {
     "data": {
      "text/plain": [
       "array(['No', nan, 'Yes'], dtype=object)"
      ]
     },
     "execution_count": 44,
     "metadata": {},
     "output_type": "execute_result"
    }
   ],
   "source": [
    "HPWRA1['4.12_forms_thickets'].unique()"
   ]
  },
  {
   "cell_type": "code",
   "execution_count": 45,
   "metadata": {},
   "outputs": [],
   "source": [
    "# Q's about whether they'll alter habits: these are y/n and should be changed to 1/0\n",
    "HPWRA1['5.01_aquatic'].replace(yesno_dict, inplace=True)\n",
    "HPWRA1['5.02_grass'].replace(yesno_dict, inplace=True)\n",
    "HPWRA1['5.03_nitrogen_fixer'].replace(yesno_dict, inplace=True)\n",
    "HPWRA1['5.04_geophyte'].replace(yesno_dict, inplace=True)"
   ]
  },
  {
   "cell_type": "code",
   "execution_count": 46,
   "metadata": {},
   "outputs": [
    {
     "data": {
      "text/plain": [
       "array(['No', nan, 'Yes'], dtype=object)"
      ]
     },
     "execution_count": 46,
     "metadata": {},
     "output_type": "execute_result"
    }
   ],
   "source": [
    "#Check: make sure there's nothing but 0s,1s, and NaN left\n",
    "HPWRA1['5.01_aquatic'].unique()"
   ]
  },
  {
   "cell_type": "code",
   "execution_count": 47,
   "metadata": {},
   "outputs": [
    {
     "data": {
      "text/plain": [
       "array(['No', 'Yes'], dtype=object)"
      ]
     },
     "execution_count": 47,
     "metadata": {},
     "output_type": "execute_result"
    }
   ],
   "source": [
    "HPWRA1['5.02_grass'].unique()"
   ]
  },
  {
   "cell_type": "code",
   "execution_count": 48,
   "metadata": {},
   "outputs": [
    {
     "data": {
      "text/plain": [
       "array(['No', 'Yes', nan], dtype=object)"
      ]
     },
     "execution_count": 48,
     "metadata": {},
     "output_type": "execute_result"
    }
   ],
   "source": [
    "HPWRA1['5.03_nitrogen_fixer'].unique()"
   ]
  },
  {
   "cell_type": "code",
   "execution_count": 49,
   "metadata": {},
   "outputs": [
    {
     "data": {
      "text/plain": [
       "array(['No', 'Yes', nan], dtype=object)"
      ]
     },
     "execution_count": 49,
     "metadata": {},
     "output_type": "execute_result"
    }
   ],
   "source": [
    "HPWRA1['5.04_geophyte'].unique()"
   ]
  },
  {
   "cell_type": "code",
   "execution_count": 50,
   "metadata": {},
   "outputs": [],
   "source": [
    "# Q's about whether they'll establish in Hawaii: these are y/n and should be changed to 1/0\n",
    "HPWRA1['6.01_repro_failure'].replace(yesno_dict, inplace=True)\n",
    "HPWRA1['6.02_viable_seed'].replace(yesno_dict, inplace=True)\n",
    "HPWRA1['6.03_hybridizes'].replace(yesno_dict, inplace=True)\n",
    "HPWRA1['6.04_selfcompatible'].replace(yesno_dict, inplace=True)\n",
    "HPWRA1['6.05_special_pollinators'].replace(yesno_dict, inplace=True)\n",
    "HPWRA1['6.06_vegetative_repro'].replace(yesno_dict, inplace=True)"
   ]
  },
  {
   "cell_type": "code",
   "execution_count": 51,
   "metadata": {},
   "outputs": [
    {
     "data": {
      "text/plain": [
       "array([nan, 'No', 'Yes'], dtype=object)"
      ]
     },
     "execution_count": 51,
     "metadata": {},
     "output_type": "execute_result"
    }
   ],
   "source": [
    "#Check: make sure there's nothing but 0s,1s, and NaN left\n",
    "HPWRA1['6.01_repro_failure'].unique()"
   ]
  },
  {
   "cell_type": "code",
   "execution_count": 52,
   "metadata": {},
   "outputs": [
    {
     "data": {
      "text/plain": [
       "array(['No', 'Yes', nan], dtype=object)"
      ]
     },
     "execution_count": 52,
     "metadata": {},
     "output_type": "execute_result"
    }
   ],
   "source": [
    "HPWRA1['6.02_viable_seed'].unique()"
   ]
  },
  {
   "cell_type": "code",
   "execution_count": 53,
   "metadata": {},
   "outputs": [
    {
     "data": {
      "text/plain": [
       "array([nan, 'Yes', 'No', None], dtype=object)"
      ]
     },
     "execution_count": 53,
     "metadata": {},
     "output_type": "execute_result"
    }
   ],
   "source": [
    "HPWRA1['6.03_hybridizes'].unique()"
   ]
  },
  {
   "cell_type": "code",
   "execution_count": 54,
   "metadata": {},
   "outputs": [
    {
     "data": {
      "text/plain": [
       "array(['No', nan, 'Yes'], dtype=object)"
      ]
     },
     "execution_count": 54,
     "metadata": {},
     "output_type": "execute_result"
    }
   ],
   "source": [
    "HPWRA1['6.04_selfcompatible'].unique()"
   ]
  },
  {
   "cell_type": "code",
   "execution_count": 55,
   "metadata": {},
   "outputs": [
    {
     "data": {
      "text/plain": [
       "array([nan, 'No', 'Yes'], dtype=object)"
      ]
     },
     "execution_count": 55,
     "metadata": {},
     "output_type": "execute_result"
    }
   ],
   "source": [
    "HPWRA1['6.05_special_pollinators'].unique()"
   ]
  },
  {
   "cell_type": "code",
   "execution_count": 56,
   "metadata": {},
   "outputs": [
    {
     "data": {
      "text/plain": [
       "array(['No', 'Yes', nan], dtype=object)"
      ]
     },
     "execution_count": 56,
     "metadata": {},
     "output_type": "execute_result"
    }
   ],
   "source": [
    "HPWRA1['6.06_vegetative_repro'].unique()"
   ]
  },
  {
   "cell_type": "markdown",
   "metadata": {},
   "source": [
    "##### Minimum generation time question\n",
    "- This is a question about how long a species takes to meet maturity.  I binned these values according to Gordon et al 2010 (Guidance for addressing the Australian Weed Risk Assessment Questions, Plant Protection Quarterly 25(2): 56-74) where 1 = 0-2 years; 2 = 2-4 years; 3 = 4-10 years; 4 = >10 years"
   ]
  },
  {
   "cell_type": "code",
   "execution_count": 58,
   "metadata": {},
   "outputs": [],
   "source": [
    "# making the dictionary\n",
    "lifespan_dict ={'0':\"0-2 years\", '<1':\"0-2 years\", '1':\"0-2 years\", '1 year':\"0-2 years\", '2-Jan':\"0-2 years\", '1or 2':\"0-2 years\", '1.5-2':\"0-2 years\", '1.5-2.5':\"0-2 years\", '>1':\"0-2 years\",\n",
    "               '2':\"2-4 years\", '3':\"2-4 years\", '2 or 3':\"2-4 years\", '2 or 3 ':\"2-4 years\", '2+':\"2-4 years\", '>2':\"2-4 years\", '2 or 3 years':\"2-4 years\", '3-Feb':\"2-4 years\", '>3':\"2-4 years\", '<4':\"2-4 years\", '5-Mar':\"2-4 years\",'3+':\"2-4 years\",\n",
    "                '4':\"4-10 years\", '4+':\"4-10 years\", '>4':\"4-10 years\", '>4+':\"4-10 years\",  '4+ ':\"4-10 years\", '5':\"4-10 years\", '5+':\"4-10 years\", '6':\"4-10 years\", '7':\"4-10 years\", '7+':\"4-10 years\", '8':\"4-10 years\", '9':\"4-10 years\",\n",
    "                '10':\">10 years\", '15':\">10 years\", '19':\">10 years\",'20':\">10 years\", '30':\">10 years\",\n",
    "                'n':None}\n",
    "# binning the responses\n",
    "HPWRA1['6.07_miniumum_gen_time'].replace(lifespan_dict, inplace=True)"
   ]
  },
  {
   "cell_type": "code",
   "execution_count": 59,
   "metadata": {},
   "outputs": [
    {
     "data": {
      "text/plain": [
       "array([nan, '2-4 years', '4-10 years', '0-2 years', '>10 years'],\n",
       "      dtype=object)"
      ]
     },
     "execution_count": 59,
     "metadata": {},
     "output_type": "execute_result"
    }
   ],
   "source": [
    "#Check: make sure there's nothing but 1-4 and NaN left\n",
    "HPWRA1['6.07_miniumum_gen_time'].unique()"
   ]
  },
  {
   "cell_type": "code",
   "execution_count": 60,
   "metadata": {},
   "outputs": [],
   "source": [
    "# Q's about how easily a plant is dispersed: these are y/n and should be changed to 1/0\n",
    "HPWRA1['7.01_unintentional_dispersal'].replace(yesno_dict, inplace=True)\n",
    "HPWRA1['7.02_intentional_dispersal'].replace(yesno_dict, inplace=True)\n",
    "HPWRA1['7.03_contaminant_dispersal'].replace(yesno_dict, inplace=True)\n",
    "HPWRA1['7.04_wind_dispersal'].replace(yesno_dict, inplace=True)\n",
    "HPWRA1['7.05_water_dispersal'].replace(yesno_dict, inplace=True)\n",
    "HPWRA1['7.06_bird_dispersal'].replace(yesno_dict, inplace=True)\n",
    "HPWRA1['7.07_animal_dispersal'].replace(yesno_dict, inplace=True)\n",
    "HPWRA1['7.08_survive_gut'].replace(yesno_dict, inplace=True)"
   ]
  },
  {
   "cell_type": "code",
   "execution_count": 61,
   "metadata": {},
   "outputs": [
    {
     "data": {
      "text/plain": [
       "array(['No', 'Yes', nan], dtype=object)"
      ]
     },
     "execution_count": 61,
     "metadata": {},
     "output_type": "execute_result"
    }
   ],
   "source": [
    "#Check: make sure there's nothing but 0s,1s, and NaN left\n",
    "HPWRA1['7.01_unintentional_dispersal'].unique()"
   ]
  },
  {
   "cell_type": "code",
   "execution_count": 62,
   "metadata": {},
   "outputs": [
    {
     "data": {
      "text/plain": [
       "array(['Yes', 'No', nan], dtype=object)"
      ]
     },
     "execution_count": 62,
     "metadata": {},
     "output_type": "execute_result"
    }
   ],
   "source": [
    "HPWRA1['7.02_intentional_dispersal'].unique()"
   ]
  },
  {
   "cell_type": "code",
   "execution_count": 63,
   "metadata": {},
   "outputs": [
    {
     "data": {
      "text/plain": [
       "array(['No', nan, 'Yes'], dtype=object)"
      ]
     },
     "execution_count": 63,
     "metadata": {},
     "output_type": "execute_result"
    }
   ],
   "source": [
    "HPWRA1['7.03_contaminant_dispersal'].unique()"
   ]
  },
  {
   "cell_type": "code",
   "execution_count": 64,
   "metadata": {},
   "outputs": [
    {
     "data": {
      "text/plain": [
       "array(['No', nan, 'Yes'], dtype=object)"
      ]
     },
     "execution_count": 64,
     "metadata": {},
     "output_type": "execute_result"
    }
   ],
   "source": [
    "HPWRA1['7.04_wind_dispersal'].unique()"
   ]
  },
  {
   "cell_type": "code",
   "execution_count": 65,
   "metadata": {},
   "outputs": [
    {
     "data": {
      "text/plain": [
       "array(['No', nan, 'Yes'], dtype=object)"
      ]
     },
     "execution_count": 65,
     "metadata": {},
     "output_type": "execute_result"
    }
   ],
   "source": [
    "HPWRA1['7.05_water_dispersal'].unique()"
   ]
  },
  {
   "cell_type": "code",
   "execution_count": 66,
   "metadata": {},
   "outputs": [
    {
     "data": {
      "text/plain": [
       "array(['No', 'Yes', nan], dtype=object)"
      ]
     },
     "execution_count": 66,
     "metadata": {},
     "output_type": "execute_result"
    }
   ],
   "source": [
    "HPWRA1['7.06_bird_dispersal'].unique()"
   ]
  },
  {
   "cell_type": "code",
   "execution_count": 67,
   "metadata": {},
   "outputs": [
    {
     "data": {
      "text/plain": [
       "array(['No', 'Yes', nan], dtype=object)"
      ]
     },
     "execution_count": 67,
     "metadata": {},
     "output_type": "execute_result"
    }
   ],
   "source": [
    "HPWRA1['7.07_animal_dispersal'].unique()"
   ]
  },
  {
   "cell_type": "code",
   "execution_count": 68,
   "metadata": {},
   "outputs": [
    {
     "data": {
      "text/plain": [
       "array(['No', nan, 'Yes', None], dtype=object)"
      ]
     },
     "execution_count": 68,
     "metadata": {},
     "output_type": "execute_result"
    }
   ],
   "source": [
    "HPWRA1['7.08_survive_gut'].unique()"
   ]
  },
  {
   "cell_type": "code",
   "execution_count": 69,
   "metadata": {},
   "outputs": [],
   "source": [
    "# Q's about how easily a plant is controlled: these are y/n and should be changed to 1/0\n",
    "HPWRA1['8.01_prolific_seeder'].replace(yesno_dict, inplace=True)\n",
    "HPWRA1['8.02_propagule_bank'].replace(yesno_dict, inplace=True)\n",
    "HPWRA1['8.03_herbicide_controlled'].replace(yesno_dict, inplace=True)\n",
    "HPWRA1['8.04_tolerates_mutilation'].replace(yesno_dict, inplace=True)\n",
    "HPWRA1['8.05_local_enemies'].replace(yesno_dict, inplace=True)"
   ]
  },
  {
   "cell_type": "code",
   "execution_count": 70,
   "metadata": {},
   "outputs": [
    {
     "data": {
      "text/plain": [
       "array(['No', None, nan, 'Yes'], dtype=object)"
      ]
     },
     "execution_count": 70,
     "metadata": {},
     "output_type": "execute_result"
    }
   ],
   "source": [
    "#Check: make sure there's nothing but 0s,1s, and NaN left\n",
    "HPWRA1['8.01_prolific_seeder'].unique()"
   ]
  },
  {
   "cell_type": "code",
   "execution_count": 71,
   "metadata": {},
   "outputs": [
    {
     "data": {
      "text/plain": [
       "array(['No', 'Yes', nan, None], dtype=object)"
      ]
     },
     "execution_count": 71,
     "metadata": {},
     "output_type": "execute_result"
    }
   ],
   "source": [
    "HPWRA1['8.02_propagule_bank'].unique()"
   ]
  },
  {
   "cell_type": "code",
   "execution_count": 72,
   "metadata": {},
   "outputs": [
    {
     "data": {
      "text/plain": [
       "array([nan, 'Yes', 'No', None], dtype=object)"
      ]
     },
     "execution_count": 72,
     "metadata": {},
     "output_type": "execute_result"
    }
   ],
   "source": [
    "HPWRA1['8.03_herbicide_controlled'].unique()"
   ]
  },
  {
   "cell_type": "code",
   "execution_count": 73,
   "metadata": {},
   "outputs": [
    {
     "data": {
      "text/plain": [
       "array(['Yes', nan, 'No'], dtype=object)"
      ]
     },
     "execution_count": 73,
     "metadata": {},
     "output_type": "execute_result"
    }
   ],
   "source": [
    "HPWRA1['8.04_tolerates_mutilation'].unique()"
   ]
  },
  {
   "cell_type": "code",
   "execution_count": 74,
   "metadata": {},
   "outputs": [
    {
     "data": {
      "text/plain": [
       "array([nan, 'No', 'Yes', None], dtype=object)"
      ]
     },
     "execution_count": 74,
     "metadata": {},
     "output_type": "execute_result"
    }
   ],
   "source": [
    "HPWRA1['8.05_local_enemies'].unique()"
   ]
  },
  {
   "cell_type": "markdown",
   "metadata": {},
   "source": [
    "## Adding date of assessment and final risk category\n",
    "The date each assessment was conducted, and the categorical risk assessment was not present on each of the scraped pdfs, so we need to add this information (downloadable here https://sites.google.com/site/weedriskassessment/home).  Thankfully, each spreadsheet contains a \"Filename\" column, so we can match the datasets by these values."
   ]
  },
  {
   "cell_type": "code",
   "execution_count": 75,
   "metadata": {},
   "outputs": [],
   "source": [
    "# read in the necessary fields from the summary csv\n",
    "#fields = [\"Genus\",\"Species\", \"Synonyms\", \"Common_name\", \"WRA_score\", \"WRA_rating\", \"WRA_designation\", \"Date\", \"Filename\"]\n",
    "HPWRA_summary =pd.read_csv(\"All_HPWRA_Risk.csv\", sep=',')#, usecols=fields)"
   ]
  },
  {
   "cell_type": "code",
   "execution_count": 76,
   "metadata": {},
   "outputs": [
    {
     "data": {
      "text/html": [
       "<div>\n",
       "<style scoped>\n",
       "    .dataframe tbody tr th:only-of-type {\n",
       "        vertical-align: middle;\n",
       "    }\n",
       "\n",
       "    .dataframe tbody tr th {\n",
       "        vertical-align: top;\n",
       "    }\n",
       "\n",
       "    .dataframe thead th {\n",
       "        text-align: right;\n",
       "    }\n",
       "</style>\n",
       "<table border=\"1\" class=\"dataframe\">\n",
       "  <thead>\n",
       "    <tr style=\"text-align: right;\">\n",
       "      <th></th>\n",
       "      <th>Family</th>\n",
       "      <th>Taxa</th>\n",
       "      <th>Genus</th>\n",
       "      <th>Species</th>\n",
       "      <th>Synonyms</th>\n",
       "      <th>Common name</th>\n",
       "      <th>WRA_score</th>\n",
       "      <th>WRA_rating</th>\n",
       "      <th>WRA_designation</th>\n",
       "      <th>Date</th>\n",
       "      <th>Filename</th>\n",
       "      <th>Notes</th>\n",
       "    </tr>\n",
       "  </thead>\n",
       "  <tbody>\n",
       "    <tr>\n",
       "      <th>2036</th>\n",
       "      <td>Solanaceae</td>\n",
       "      <td>Lycium barbarum</td>\n",
       "      <td>Lycium</td>\n",
       "      <td>barbarum</td>\n",
       "      <td>Lycium halimifolium, Lycium vulgare</td>\n",
       "      <td>goji berry, matrimony vine, Chinese boxthorn</td>\n",
       "      <td>15.0</td>\n",
       "      <td>High Risk</td>\n",
       "      <td>H (HPWRA)</td>\n",
       "      <td>8/28/2019</td>\n",
       "      <td>Lycium_barbarum.pdf</td>\n",
       "      <td>NaN</td>\n",
       "    </tr>\n",
       "    <tr>\n",
       "      <th>2037</th>\n",
       "      <td>Apocynaceae</td>\n",
       "      <td>Strophanthus amboensis</td>\n",
       "      <td>Strophanthus</td>\n",
       "      <td>amboensis</td>\n",
       "      <td>Strophanthus gossweileri</td>\n",
       "      <td>elephant vine, knob-stemmed poisonrope</td>\n",
       "      <td>1.0</td>\n",
       "      <td>Evaluate</td>\n",
       "      <td>Evaluate</td>\n",
       "      <td>9/4/2019</td>\n",
       "      <td>Strophanthus_amboensis.pdf</td>\n",
       "      <td>NaN</td>\n",
       "    </tr>\n",
       "    <tr>\n",
       "      <th>2038</th>\n",
       "      <td>Malvaceae</td>\n",
       "      <td>Abroma augusta</td>\n",
       "      <td>Abroma</td>\n",
       "      <td>augusta</td>\n",
       "      <td>Abroma fastuosum, Ambroma augustum</td>\n",
       "      <td>devil's cotton</td>\n",
       "      <td>4.0</td>\n",
       "      <td>Evaluate</td>\n",
       "      <td>Evaluate</td>\n",
       "      <td>9/9/2019</td>\n",
       "      <td>Abroma_augusta.pdf</td>\n",
       "      <td>NaN</td>\n",
       "    </tr>\n",
       "    <tr>\n",
       "      <th>2039</th>\n",
       "      <td>Dicksoniaceae</td>\n",
       "      <td>Dicksonia squarrosa</td>\n",
       "      <td>Dicksonia</td>\n",
       "      <td>squarrosa</td>\n",
       "      <td>Trichomanes squarrosum</td>\n",
       "      <td>harsh tree fern, rough tree fern, wheki</td>\n",
       "      <td>18.0</td>\n",
       "      <td>High Risk</td>\n",
       "      <td>H (HPWRA)</td>\n",
       "      <td>9/11/2019</td>\n",
       "      <td>Dicksonia_squarrosa.pdf</td>\n",
       "      <td>NaN</td>\n",
       "    </tr>\n",
       "    <tr>\n",
       "      <th>2040</th>\n",
       "      <td>Myrtaceae</td>\n",
       "      <td>Syzygium polyanthum</td>\n",
       "      <td>Syzygium</td>\n",
       "      <td>polyanthum</td>\n",
       "      <td>Eugenia polyantha</td>\n",
       "      <td>Indian bayleaf, Indonesian bayleaf</td>\n",
       "      <td>3.0</td>\n",
       "      <td>High Risk</td>\n",
       "      <td>H (HPWRA)</td>\n",
       "      <td>9/13/2019</td>\n",
       "      <td>Syzygium_polyanthum.pdf</td>\n",
       "      <td>NaN</td>\n",
       "    </tr>\n",
       "  </tbody>\n",
       "</table>\n",
       "</div>"
      ],
      "text/plain": [
       "             Family                    Taxa          Genus     Species  \\\n",
       "2036     Solanaceae         Lycium barbarum        Lycium     barbarum   \n",
       "2037    Apocynaceae  Strophanthus amboensis  Strophanthus    amboensis   \n",
       "2038      Malvaceae          Abroma augusta        Abroma      augusta   \n",
       "2039  Dicksoniaceae     Dicksonia squarrosa     Dicksonia    squarrosa   \n",
       "2040      Myrtaceae     Syzygium polyanthum      Syzygium   polyanthum   \n",
       "\n",
       "                                 Synonyms  \\\n",
       "2036  Lycium halimifolium, Lycium vulgare   \n",
       "2037            Strophanthus gossweileri    \n",
       "2038   Abroma fastuosum, Ambroma augustum   \n",
       "2039               Trichomanes squarrosum   \n",
       "2040                    Eugenia polyantha   \n",
       "\n",
       "                                     Common name    WRA_score   WRA_rating  \\\n",
       "2036  goji berry, matrimony vine, Chinese boxthorn         15.0  High Risk   \n",
       "2037        elephant vine, knob-stemmed poisonrope          1.0   Evaluate   \n",
       "2038                                devil's cotton          4.0   Evaluate   \n",
       "2039       harsh tree fern, rough tree fern, wheki         18.0  High Risk   \n",
       "2040            Indian bayleaf, Indonesian bayleaf          3.0  High Risk   \n",
       "\n",
       "     WRA_designation     Date                      Filename Notes  \n",
       "2036       H (HPWRA)  8/28/2019         Lycium_barbarum.pdf   NaN  \n",
       "2037        Evaluate   9/4/2019  Strophanthus_amboensis.pdf   NaN  \n",
       "2038        Evaluate   9/9/2019          Abroma_augusta.pdf   NaN  \n",
       "2039       H (HPWRA)  9/11/2019     Dicksonia_squarrosa.pdf   NaN  \n",
       "2040       H (HPWRA)  9/13/2019     Syzygium_polyanthum.pdf   NaN  "
      ]
     },
     "execution_count": 76,
     "metadata": {},
     "output_type": "execute_result"
    }
   ],
   "source": [
    "# Check:make sure it loaded okay and that the newest assessed species are on there\n",
    "HPWRA_summary.tail()"
   ]
  },
  {
   "cell_type": "code",
   "execution_count": 77,
   "metadata": {},
   "outputs": [
    {
     "name": "stdout",
     "output_type": "stream",
     "text": [
      "Number of Species that Have been Assessed = 2041\n"
     ]
    }
   ],
   "source": [
    "#Check: How many assessments have been completed?\n",
    "print(\"Number of Species that Have been Assessed = \" + str(len(HPWRA_summary)))"
   ]
  },
  {
   "cell_type": "markdown",
   "metadata": {},
   "source": [
    "- The number of assessments scraped from pdf and xls does not match up\n",
    "- This is because some species have more than one assessment if it has been updated in recent years\n",
    "- Must be careful to ensure that the Assessment we use is the most recent"
   ]
  },
  {
   "cell_type": "code",
   "execution_count": 78,
   "metadata": {},
   "outputs": [
    {
     "name": "stdout",
     "output_type": "stream",
     "text": [
      "Number of Species that have more than 1 assessment = 28\n"
     ]
    }
   ],
   "source": [
    "var1 = len(CompiledData) - len(HPWRA_summary)\n",
    "\n",
    "print(\"Number of Species that have more than 1 assessment = \" + str(var1))"
   ]
  },
  {
   "cell_type": "code",
   "execution_count": 79,
   "metadata": {},
   "outputs": [],
   "source": [
    "#merging the \n",
    "HPWRAall = pd.merge(HPWRA_summary, HPWRA1, on=\"Filename\", how=\"left\")"
   ]
  },
  {
   "cell_type": "code",
   "execution_count": 80,
   "metadata": {},
   "outputs": [
    {
     "data": {
      "text/plain": [
       "(2048, 62)"
      ]
     },
     "execution_count": 80,
     "metadata": {},
     "output_type": "execute_result"
    }
   ],
   "source": [
    "HPWRAall.shape"
   ]
  },
  {
   "cell_type": "code",
   "execution_count": 81,
   "metadata": {},
   "outputs": [],
   "source": [
    "HPWRAall.to_csv('HPWRAlist.csv',encoding='utf-8-sig', index=False)"
   ]
  },
  {
   "cell_type": "code",
   "execution_count": 82,
   "metadata": {},
   "outputs": [
    {
     "data": {
      "text/html": [
       "<div>\n",
       "<style scoped>\n",
       "    .dataframe tbody tr th:only-of-type {\n",
       "        vertical-align: middle;\n",
       "    }\n",
       "\n",
       "    .dataframe tbody tr th {\n",
       "        vertical-align: top;\n",
       "    }\n",
       "\n",
       "    .dataframe thead th {\n",
       "        text-align: right;\n",
       "    }\n",
       "</style>\n",
       "<table border=\"1\" class=\"dataframe\">\n",
       "  <thead>\n",
       "    <tr style=\"text-align: right;\">\n",
       "      <th></th>\n",
       "      <th>Family</th>\n",
       "      <th>Taxa</th>\n",
       "      <th>Genus</th>\n",
       "      <th>Species</th>\n",
       "      <th>Synonyms</th>\n",
       "      <th>Common name</th>\n",
       "      <th>WRA_score</th>\n",
       "      <th>WRA_rating</th>\n",
       "      <th>WRA_designation</th>\n",
       "      <th>Date</th>\n",
       "      <th>...</th>\n",
       "      <th>7.05_water_dispersal</th>\n",
       "      <th>7.06_bird_dispersal</th>\n",
       "      <th>7.07_animal_dispersal</th>\n",
       "      <th>7.08_survive_gut</th>\n",
       "      <th>8.01_prolific_seeder</th>\n",
       "      <th>8.02_propagule_bank</th>\n",
       "      <th>8.03_herbicide_controlled</th>\n",
       "      <th>8.04_tolerates_mutilation</th>\n",
       "      <th>8.05_local_enemies</th>\n",
       "      <th>manual_score</th>\n",
       "    </tr>\n",
       "  </thead>\n",
       "  <tbody>\n",
       "    <tr>\n",
       "      <th>0</th>\n",
       "      <td>Fabaceae</td>\n",
       "      <td>Acacia auriculiformis</td>\n",
       "      <td>Acacia</td>\n",
       "      <td>auriculiformis</td>\n",
       "      <td>NaN</td>\n",
       "      <td>Darwin black wattle</td>\n",
       "      <td>13.0</td>\n",
       "      <td>High Risk</td>\n",
       "      <td>H (HPWRA)</td>\n",
       "      <td>10/7/2002</td>\n",
       "      <td>...</td>\n",
       "      <td>NaN</td>\n",
       "      <td>Yes</td>\n",
       "      <td>No</td>\n",
       "      <td>NaN</td>\n",
       "      <td>No</td>\n",
       "      <td>Yes</td>\n",
       "      <td>Yes</td>\n",
       "      <td>Yes</td>\n",
       "      <td>NaN</td>\n",
       "      <td>13</td>\n",
       "    </tr>\n",
       "    <tr>\n",
       "      <th>1</th>\n",
       "      <td>Fabaceae</td>\n",
       "      <td>Acacia confusa</td>\n",
       "      <td>Acacia</td>\n",
       "      <td>confusa</td>\n",
       "      <td>NaN</td>\n",
       "      <td>Formosan koa</td>\n",
       "      <td>10.0</td>\n",
       "      <td>High Risk</td>\n",
       "      <td>H (Hawaii)</td>\n",
       "      <td>10/7/2002</td>\n",
       "      <td>...</td>\n",
       "      <td>No</td>\n",
       "      <td>No</td>\n",
       "      <td>No</td>\n",
       "      <td>NaN</td>\n",
       "      <td>No</td>\n",
       "      <td>Yes</td>\n",
       "      <td>NaN</td>\n",
       "      <td>Yes</td>\n",
       "      <td>No</td>\n",
       "      <td>10</td>\n",
       "    </tr>\n",
       "    <tr>\n",
       "      <th>2</th>\n",
       "      <td>Fabaceae</td>\n",
       "      <td>Acacia melanoxylon</td>\n",
       "      <td>Acacia</td>\n",
       "      <td>melanoxylon</td>\n",
       "      <td>NaN</td>\n",
       "      <td>Australian blackwood</td>\n",
       "      <td>12.0</td>\n",
       "      <td>High Risk</td>\n",
       "      <td>H (HPWRA)</td>\n",
       "      <td>10/7/2002</td>\n",
       "      <td>...</td>\n",
       "      <td>NaN</td>\n",
       "      <td>NaN</td>\n",
       "      <td>No</td>\n",
       "      <td>NaN</td>\n",
       "      <td>None</td>\n",
       "      <td>Yes</td>\n",
       "      <td>No</td>\n",
       "      <td>Yes</td>\n",
       "      <td>No</td>\n",
       "      <td>12</td>\n",
       "    </tr>\n",
       "    <tr>\n",
       "      <th>3</th>\n",
       "      <td>Euphorbiaceae</td>\n",
       "      <td>Acalypha hispida</td>\n",
       "      <td>Acalypha</td>\n",
       "      <td>hispida</td>\n",
       "      <td>NaN</td>\n",
       "      <td>chenille plant</td>\n",
       "      <td>2.0</td>\n",
       "      <td>Low Risk</td>\n",
       "      <td>L (HPWRA)</td>\n",
       "      <td>10/7/2002</td>\n",
       "      <td>...</td>\n",
       "      <td>No</td>\n",
       "      <td>No</td>\n",
       "      <td>No</td>\n",
       "      <td>NaN</td>\n",
       "      <td>No</td>\n",
       "      <td>NaN</td>\n",
       "      <td>NaN</td>\n",
       "      <td>NaN</td>\n",
       "      <td>NaN</td>\n",
       "      <td>2</td>\n",
       "    </tr>\n",
       "    <tr>\n",
       "      <th>4</th>\n",
       "      <td>Euphorbiaceae</td>\n",
       "      <td>Acalypha wilkesiana</td>\n",
       "      <td>Acalypha</td>\n",
       "      <td>wilkesiana</td>\n",
       "      <td>NaN</td>\n",
       "      <td>beefsteak plant</td>\n",
       "      <td>-2.0</td>\n",
       "      <td>Low Risk</td>\n",
       "      <td>L (HPWRA)</td>\n",
       "      <td>10/7/2002</td>\n",
       "      <td>...</td>\n",
       "      <td>No</td>\n",
       "      <td>No</td>\n",
       "      <td>No</td>\n",
       "      <td>No</td>\n",
       "      <td>No</td>\n",
       "      <td>NaN</td>\n",
       "      <td>Yes</td>\n",
       "      <td>NaN</td>\n",
       "      <td>NaN</td>\n",
       "      <td>-2</td>\n",
       "    </tr>\n",
       "  </tbody>\n",
       "</table>\n",
       "<p>5 rows × 62 columns</p>\n",
       "</div>"
      ],
      "text/plain": [
       "          Family                   Taxa      Genus         Species Synonyms  \\\n",
       "0       Fabaceae  Acacia auriculiformis    Acacia   auriculiformis      NaN   \n",
       "1       Fabaceae         Acacia confusa     Acacia         confusa      NaN   \n",
       "2       Fabaceae     Acacia melanoxylon    Acacia      melanoxylon      NaN   \n",
       "3  Euphorbiaceae       Acalypha hispida  Acalypha          hispida      NaN   \n",
       "4  Euphorbiaceae    Acalypha wilkesiana  Acalypha       wilkesiana      NaN   \n",
       "\n",
       "          Common name    WRA_score   WRA_rating WRA_designation     Date    \\\n",
       "0   Darwin black wattle         13.0  High Risk       H (HPWRA)  10/7/2002   \n",
       "1          Formosan koa         10.0  High Risk      H (Hawaii)  10/7/2002   \n",
       "2  Australian blackwood         12.0  High Risk       H (HPWRA)  10/7/2002   \n",
       "3        chenille plant          2.0   Low Risk       L (HPWRA)  10/7/2002   \n",
       "4       beefsteak plant         -2.0   Low Risk       L (HPWRA)  10/7/2002   \n",
       "\n",
       "      ...      7.05_water_dispersal 7.06_bird_dispersal 7.07_animal_dispersal  \\\n",
       "0     ...                       NaN                 Yes                    No   \n",
       "1     ...                        No                  No                    No   \n",
       "2     ...                       NaN                 NaN                    No   \n",
       "3     ...                        No                  No                    No   \n",
       "4     ...                        No                  No                    No   \n",
       "\n",
       "  7.08_survive_gut 8.01_prolific_seeder 8.02_propagule_bank  \\\n",
       "0              NaN                   No                 Yes   \n",
       "1              NaN                   No                 Yes   \n",
       "2              NaN                 None                 Yes   \n",
       "3              NaN                   No                 NaN   \n",
       "4               No                   No                 NaN   \n",
       "\n",
       "  8.03_herbicide_controlled 8.04_tolerates_mutilation 8.05_local_enemies  \\\n",
       "0                       Yes                       Yes                NaN   \n",
       "1                       NaN                       Yes                 No   \n",
       "2                        No                       Yes                 No   \n",
       "3                       NaN                       NaN                NaN   \n",
       "4                       Yes                       NaN                NaN   \n",
       "\n",
       "  manual_score  \n",
       "0           13  \n",
       "1           10  \n",
       "2           12  \n",
       "3            2  \n",
       "4           -2  \n",
       "\n",
       "[5 rows x 62 columns]"
      ]
     },
     "execution_count": 82,
     "metadata": {},
     "output_type": "execute_result"
    }
   ],
   "source": [
    "HPWRAall.head(5)"
   ]
  },
  {
   "cell_type": "code",
   "execution_count": 83,
   "metadata": {},
   "outputs": [
    {
     "data": {
      "text/plain": [
       "(4, 62)"
      ]
     },
     "execution_count": 83,
     "metadata": {},
     "output_type": "execute_result"
    }
   ],
   "source": [
    "# how many assessments didn't get scraped and aren't included in our dataset?\n",
    "missing_assessments = HPWRAall[HPWRAall[\"manual_score\"].isnull()]\n",
    "missing_assessments.shape"
   ]
  },
  {
   "cell_type": "markdown",
   "metadata": {},
   "source": [
    "- The following are species that have HPWRA that could not be included because the original data file is corrupted in some way."
   ]
  },
  {
   "cell_type": "code",
   "execution_count": 84,
   "metadata": {
    "scrolled": false
   },
   "outputs": [
    {
     "data": {
      "text/html": [
       "<div>\n",
       "<style scoped>\n",
       "    .dataframe tbody tr th:only-of-type {\n",
       "        vertical-align: middle;\n",
       "    }\n",
       "\n",
       "    .dataframe tbody tr th {\n",
       "        vertical-align: top;\n",
       "    }\n",
       "\n",
       "    .dataframe thead th {\n",
       "        text-align: right;\n",
       "    }\n",
       "</style>\n",
       "<table border=\"1\" class=\"dataframe\">\n",
       "  <thead>\n",
       "    <tr style=\"text-align: right;\">\n",
       "      <th></th>\n",
       "      <th>Family</th>\n",
       "      <th>Taxa</th>\n",
       "      <th>Genus</th>\n",
       "      <th>Species</th>\n",
       "      <th>Synonyms</th>\n",
       "      <th>Common name</th>\n",
       "      <th>WRA_score</th>\n",
       "      <th>WRA_rating</th>\n",
       "      <th>WRA_designation</th>\n",
       "      <th>Date</th>\n",
       "      <th>...</th>\n",
       "      <th>7.05_water_dispersal</th>\n",
       "      <th>7.06_bird_dispersal</th>\n",
       "      <th>7.07_animal_dispersal</th>\n",
       "      <th>7.08_survive_gut</th>\n",
       "      <th>8.01_prolific_seeder</th>\n",
       "      <th>8.02_propagule_bank</th>\n",
       "      <th>8.03_herbicide_controlled</th>\n",
       "      <th>8.04_tolerates_mutilation</th>\n",
       "      <th>8.05_local_enemies</th>\n",
       "      <th>manual_score</th>\n",
       "    </tr>\n",
       "  </thead>\n",
       "  <tbody>\n",
       "    <tr>\n",
       "      <th>393</th>\n",
       "      <td>Araceae</td>\n",
       "      <td>Anthurium hookeri</td>\n",
       "      <td>Anthurium</td>\n",
       "      <td>hookeri</td>\n",
       "      <td>NaN</td>\n",
       "      <td>birds nest anthurium</td>\n",
       "      <td>-6.0</td>\n",
       "      <td>Low Risk</td>\n",
       "      <td>L (HPWRA)</td>\n",
       "      <td>8/6/2004</td>\n",
       "      <td>...</td>\n",
       "      <td>NaN</td>\n",
       "      <td>NaN</td>\n",
       "      <td>NaN</td>\n",
       "      <td>NaN</td>\n",
       "      <td>NaN</td>\n",
       "      <td>NaN</td>\n",
       "      <td>NaN</td>\n",
       "      <td>NaN</td>\n",
       "      <td>NaN</td>\n",
       "      <td>NaN</td>\n",
       "    </tr>\n",
       "    <tr>\n",
       "      <th>725</th>\n",
       "      <td>Zingiberaceae</td>\n",
       "      <td>Kaempferia galanga</td>\n",
       "      <td>Kaempferia</td>\n",
       "      <td>galanga</td>\n",
       "      <td>NaN</td>\n",
       "      <td>galanga</td>\n",
       "      <td>1.0</td>\n",
       "      <td>Low Risk</td>\n",
       "      <td>L (HPWRA)</td>\n",
       "      <td>7/2/2009</td>\n",
       "      <td>...</td>\n",
       "      <td>NaN</td>\n",
       "      <td>NaN</td>\n",
       "      <td>NaN</td>\n",
       "      <td>NaN</td>\n",
       "      <td>NaN</td>\n",
       "      <td>NaN</td>\n",
       "      <td>NaN</td>\n",
       "      <td>NaN</td>\n",
       "      <td>NaN</td>\n",
       "      <td>NaN</td>\n",
       "    </tr>\n",
       "    <tr>\n",
       "      <th>1122</th>\n",
       "      <td>Fabaceae</td>\n",
       "      <td>Leucaena 'KX2'</td>\n",
       "      <td>Leucaena</td>\n",
       "      <td>KX2'</td>\n",
       "      <td>NaN</td>\n",
       "      <td>KX2</td>\n",
       "      <td>3.0</td>\n",
       "      <td>Evaluate</td>\n",
       "      <td>Evaluate</td>\n",
       "      <td>3/9/2012</td>\n",
       "      <td>...</td>\n",
       "      <td>NaN</td>\n",
       "      <td>NaN</td>\n",
       "      <td>NaN</td>\n",
       "      <td>NaN</td>\n",
       "      <td>NaN</td>\n",
       "      <td>NaN</td>\n",
       "      <td>NaN</td>\n",
       "      <td>NaN</td>\n",
       "      <td>NaN</td>\n",
       "      <td>NaN</td>\n",
       "    </tr>\n",
       "    <tr>\n",
       "      <th>1123</th>\n",
       "      <td>Fabaceae</td>\n",
       "      <td>Leucaena 'Wondergraze'</td>\n",
       "      <td>Leucaena</td>\n",
       "      <td>Wondergraze'</td>\n",
       "      <td>NaN</td>\n",
       "      <td>Wondergraze</td>\n",
       "      <td>7.0</td>\n",
       "      <td>High Risk</td>\n",
       "      <td>H (HPWRA)</td>\n",
       "      <td>3/12/2012</td>\n",
       "      <td>...</td>\n",
       "      <td>NaN</td>\n",
       "      <td>NaN</td>\n",
       "      <td>NaN</td>\n",
       "      <td>NaN</td>\n",
       "      <td>NaN</td>\n",
       "      <td>NaN</td>\n",
       "      <td>NaN</td>\n",
       "      <td>NaN</td>\n",
       "      <td>NaN</td>\n",
       "      <td>NaN</td>\n",
       "    </tr>\n",
       "  </tbody>\n",
       "</table>\n",
       "<p>4 rows × 62 columns</p>\n",
       "</div>"
      ],
      "text/plain": [
       "             Family                    Taxa        Genus       Species  \\\n",
       "393         Araceae       Anthurium hookeri   Anthurium        hookeri   \n",
       "725   Zingiberaceae      Kaempferia galanga  Kaempferia        galanga   \n",
       "1122       Fabaceae          Leucaena 'KX2'     Leucaena          KX2'   \n",
       "1123       Fabaceae  Leucaena 'Wondergraze'     Leucaena  Wondergraze'   \n",
       "\n",
       "     Synonyms         Common name    WRA_score   WRA_rating WRA_designation  \\\n",
       "393       NaN  birds nest anthurium         -6.0   Low Risk       L (HPWRA)   \n",
       "725       NaN               galanga          1.0   Low Risk       L (HPWRA)   \n",
       "1122      NaN                   KX2          3.0   Evaluate        Evaluate   \n",
       "1123      NaN           Wondergraze          7.0  High Risk       H (HPWRA)   \n",
       "\n",
       "         Date       ...      7.05_water_dispersal 7.06_bird_dispersal  \\\n",
       "393    8/6/2004     ...                       NaN                 NaN   \n",
       "725    7/2/2009     ...                       NaN                 NaN   \n",
       "1122   3/9/2012     ...                       NaN                 NaN   \n",
       "1123  3/12/2012     ...                       NaN                 NaN   \n",
       "\n",
       "     7.07_animal_dispersal 7.08_survive_gut 8.01_prolific_seeder  \\\n",
       "393                    NaN              NaN                  NaN   \n",
       "725                    NaN              NaN                  NaN   \n",
       "1122                   NaN              NaN                  NaN   \n",
       "1123                   NaN              NaN                  NaN   \n",
       "\n",
       "     8.02_propagule_bank 8.03_herbicide_controlled 8.04_tolerates_mutilation  \\\n",
       "393                  NaN                       NaN                       NaN   \n",
       "725                  NaN                       NaN                       NaN   \n",
       "1122                 NaN                       NaN                       NaN   \n",
       "1123                 NaN                       NaN                       NaN   \n",
       "\n",
       "     8.05_local_enemies manual_score  \n",
       "393                 NaN          NaN  \n",
       "725                 NaN          NaN  \n",
       "1122                NaN          NaN  \n",
       "1123                NaN          NaN  \n",
       "\n",
       "[4 rows x 62 columns]"
      ]
     },
     "execution_count": 84,
     "metadata": {},
     "output_type": "execute_result"
    }
   ],
   "source": [
    "missing_assessments.head(5)"
   ]
  }
 ],
 "metadata": {
  "kernelspec": {
   "display_name": "Python 3",
   "language": "python",
   "name": "python3"
  },
  "language_info": {
   "codemirror_mode": {
    "name": "ipython",
    "version": 3
   },
   "file_extension": ".py",
   "mimetype": "text/x-python",
   "name": "python",
   "nbconvert_exporter": "python",
   "pygments_lexer": "ipython3",
   "version": "3.7.1"
  }
 },
 "nbformat": 4,
 "nbformat_minor": 2
}
